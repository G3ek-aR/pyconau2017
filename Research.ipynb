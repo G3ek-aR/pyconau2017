{
 "cells": [
  {
   "cell_type": "markdown",
   "metadata": {
    "slideshow": {
     "slide_type": "slide"
    }
   },
   "source": [
    "https://en.wikipedia.org/wiki/Lego_Mindstorms\n",
    "\n",
    "## 0-2 minutes:\n",
    "\n",
    "* Introduction\n",
    "* A bit about me\n",
    "* What is Lego Mindstorms\n",
    "* Brief history\n",
    "\n",
    "## 2-5 minutes:\n",
    "\n",
    "* Cool stuff people have done with Mindstorms\n",
    "\n",
    "## 5-8 minutes:\n",
    "\n",
    "* The ev3dev operating system\n",
    "\n",
    " * What is it\n",
    " * How to install it and run it\n",
    "\n",
    "* The Python EV3 libraries\n",
    "\n",
    " * https://github.com/topikachu/python-ev3 \n",
    " * https://github.com/rhempel/ev3dev-lang-python#usage-examples\n",
    "\n",
    "\n",
    "## 8-12 minutes:\n",
    "\n",
    "* The motors and how to program them \n",
    "\n",
    " * Medium motor\n",
    " * Servo motor\n",
    "\n",
    "\n",
    "## 12-17 minutes:\n",
    "\n",
    "* The sensors and how to program them\n",
    " * Infrared\n",
    " * Touch\n",
    " * Gyro\n",
    " * Color\n",
    " * Ultrasonic\n",
    " * Power supply \n",
    "\n",
    "## 17-20 minutes:\n",
    "\n",
    "* Output options and how to program them\n",
    " * LED control \n",
    " * Sound and speech control\n",
    " * Screen control\n",
    "\n",
    "## 20-22 minutes:\n",
    "\n",
    "* Popular third-party sensors and parts \n",
    " * Dexter Industries\n",
    " * Mindsensors\n",
    " * HiTechnic \n",
    " * MATRIX robotics\n",
    " * Vernier \n",
    "\n",
    "* Extending the Python libraries to support custom sensors (might cut this one out if running short on time)\n",
    "\n",
    "## 22-23 minutes:\n",
    "\n",
    "* Other options to explore\n",
    "\n",
    " * BrickPi\n",
    "\n",
    "## 23-26 minutes:\n",
    "\n",
    "* Demo\n",
    "\n",
    " * Booting ev3dev\n",
    " * Running Jupyter notebook on the brick\n",
    " * Connecting to the Jupyter notebook and running \"Sound.speak('Hello PyCon Australia').\"\n",
    "\n",
    "## 26-30 minutes:\n",
    "\n",
    "* Thanks and Q&A "
   ]
  },
  {
   "cell_type": "markdown",
   "metadata": {
    "collapsed": true,
    "slideshow": {
     "slide_type": "slide"
    }
   },
   "source": [
    "## Putting it all together\n",
    "\n",
    "Download an mp3 from Spotify and make the robot dance. \n",
    "Bonus points for randomised dance moves. \n",
    "Bonus points for dance moves based on song analysis. "
   ]
  },
  {
   "cell_type": "code",
   "execution_count": null,
   "metadata": {
    "collapsed": true,
    "slideshow": {
     "slide_type": "slide"
    }
   },
   "outputs": [],
   "source": [
    "#https://github.com/plamere/spotipy\n",
    "\n",
    "import requests\n",
    "import spotipy\n",
    "\n",
    "sp = spotipy.Spotify()\n",
    "\n",
    "results = sp.search(q='i like to move it move it', limit=20)\n",
    "for i, t in enumerate(results['tracks']['items']):\n",
    "    print ' ', i, t['name']\n",
    "\n",
    "with file(r'c:\\temp\\moveit.mp3','wb') as out:\n",
    "    out.write(requests.get(results['tracks']['items'][0]['preview_url']).content)\n",
    "\n",
    "import os\n",
    "os.startfile(r'c:\\temp\\moveit.mp3')"
   ]
  },
  {
   "cell_type": "markdown",
   "metadata": {
    "slideshow": {
     "slide_type": "slide"
    }
   },
   "source": [
    "## .EV3 files\n",
    "\n",
    "\n",
    "* Lego Mindstorms LabView projects have a .ev3 extension.\n",
    "\n",
    "* .ev3 files can be unzipped with 7-zip to a folder.\n",
    "\n",
    "* Within the zip are:\n",
    "\n",
    "     * .x3a files\n",
    "\n",
    "     * .laz is also a .zip file which contains assets such as images\n",
    "\n",
    "     * .rgf\n",
    "\n",
    "     * .rsf \n",
    "\n",
    "     * .ev3p is an XML file which captures the progam's logic\n",
    "\n",
    "     * .lvprojx is an XML file \n",
    "\n"
   ]
  },
  {
   "cell_type": "code",
   "execution_count": null,
   "metadata": {
    "collapsed": true,
    "slideshow": {
     "slide_type": "slide"
    }
   },
   "outputs": [],
   "source": [
    "# TODO\n",
    "\n",
    "* toddler photo i had a dream\n",
    "* word cloud for parts\n",
    "* picasa collage for parts\n",
    "* lego intro\n",
    "    * mindstorms robots\n",
    "    * what: tecnic, brain, software\n",
    "    * where: buy online 499 ebay less \n",
    "    * why: community\n",
    "    * history: nxt\n",
    "    * education edition vs home edition"
   ]
  },
  {
   "cell_type": "code",
   "execution_count": 6,
   "metadata": {},
   "outputs": [
    {
     "name": "stdout",
     "output_type": "stream",
     "text": [
      " Volume in drive C is Windows\n",
      " Volume Serial Number is 7A71-E759\n",
      "\n",
      " Directory of C:\\work\\pyconau2017\\pyconau2017\n",
      "\n",
      "24/07/2017  12:19 PM    <DIR>          .\n",
      "24/07/2017  12:19 PM    <DIR>          ..\n",
      "12/05/2017  10:20 AM               130 .gitignore\n",
      "08/05/2017  03:20 AM    <DIR>          .ipynb_checkpoints\n",
      "01/07/2017  01:57 AM                92 beep.py\n",
      "08/05/2017  03:07 AM             1,091 LICENSE\n",
      "21/07/2017  06:54 PM             8,006 nupogodi.py\n",
      "24/07/2017  12:10 PM            15,613 pivottablejs.html\n",
      "21/07/2017  06:35 PM             2,752 playspace.py\n",
      "08/05/2017  03:07 AM               126 README.md\n",
      "24/07/2017  12:19 PM            10,847 Research.ipynb\n",
      "01/07/2017  02:06 AM                15 run.sh\n",
      "20/07/2017  03:15 PM             4,566 starwars.py\n",
      "              10 File(s)         43,238 bytes\n",
      "               3 Dir(s)  31,170,265,088 bytes free\n"
     ]
    }
   ],
   "source": [
    "!dir"
   ]
  },
  {
   "cell_type": "code",
   "execution_count": null,
   "metadata": {
    "collapsed": true
   },
   "outputs": [],
   "source": [
    "%config SqlMagic.autopandas = True"
   ]
  },
  {
   "cell_type": "code",
   "execution_count": null,
   "metadata": {
    "collapsed": true
   },
   "outputs": [],
   "source": [
    "%%sql sqlite://\n",
    "CREATE TABLE presidents (first, last, yob);\n",
    "INSERT INTO presidents VALUES ('George', 'Washington', 1732);"
   ]
  },
  {
   "cell_type": "code",
   "execution_count": 1,
   "metadata": {
    "collapsed": true,
    "slideshow": {
     "slide_type": "skip"
    }
   },
   "outputs": [],
   "source": [
    "import pandas as pd\n",
    "import numpy as np\n",
    "\n",
    "from pivottablejs import pivot_ui\n",
    "\n",
    "df = pd.read_csv(r'C:\\Users\\Stoyan\\Downloads\\ev3set-parts-inventory.csv')"
   ]
  },
  {
   "cell_type": "code",
   "execution_count": 2,
   "metadata": {
    "slideshow": {
     "slide_type": "slide"
    }
   },
   "outputs": [
    {
     "data": {
      "text/html": [
       "<div>\n",
       "<style>\n",
       "    .dataframe thead tr:only-child th {\n",
       "        text-align: right;\n",
       "    }\n",
       "\n",
       "    .dataframe thead th {\n",
       "        text-align: left;\n",
       "    }\n",
       "\n",
       "    .dataframe tbody tr th {\n",
       "        vertical-align: top;\n",
       "    }\n",
       "</style>\n",
       "<table border=\"1\" class=\"dataframe\">\n",
       "  <thead>\n",
       "    <tr style=\"text-align: right;\">\n",
       "      <th></th>\n",
       "      <th>SetNumber</th>\n",
       "      <th>PartID</th>\n",
       "      <th>Quantity</th>\n",
       "      <th>Colour</th>\n",
       "      <th>Category</th>\n",
       "      <th>DesignID</th>\n",
       "      <th>PartName</th>\n",
       "      <th>ImageURL</th>\n",
       "      <th>SetCount</th>\n",
       "    </tr>\n",
       "  </thead>\n",
       "  <tbody>\n",
       "    <tr>\n",
       "      <th>0</th>\n",
       "      <td>31313-1</td>\n",
       "      <td>4184286</td>\n",
       "      <td>4</td>\n",
       "      <td>Black</td>\n",
       "      <td>System</td>\n",
       "      <td>44309</td>\n",
       "      <td>Tyre Normal Wide Ø43,2 X 22</td>\n",
       "      <td>http://cache.lego.com/media/bricks/5/2/4184286...</td>\n",
       "      <td>55</td>\n",
       "    </tr>\n",
       "    <tr>\n",
       "      <th>1</th>\n",
       "      <td>31313-1</td>\n",
       "      <td>4246901</td>\n",
       "      <td>2</td>\n",
       "      <td>Black</td>\n",
       "      <td>System</td>\n",
       "      <td>50951</td>\n",
       "      <td>Tyre Low Narrow Ø14.58 X 6.24</td>\n",
       "      <td>http://cache.lego.com/media/bricks/5/2/4246901...</td>\n",
       "      <td>130</td>\n",
       "    </tr>\n",
       "    <tr>\n",
       "      <th>2</th>\n",
       "      <td>31313-1</td>\n",
       "      <td>4299389</td>\n",
       "      <td>4</td>\n",
       "      <td>Black</td>\n",
       "      <td>System</td>\n",
       "      <td>56145</td>\n",
       "      <td>Rim Wide W.Cross 30/20</td>\n",
       "      <td>http://cache.lego.com/media/bricks/5/2/4299389...</td>\n",
       "      <td>59</td>\n",
       "    </tr>\n",
       "    <tr>\n",
       "      <th>3</th>\n",
       "      <td>31313-1</td>\n",
       "      <td>4502834</td>\n",
       "      <td>2</td>\n",
       "      <td>Black</td>\n",
       "      <td>System</td>\n",
       "      <td>53992</td>\n",
       "      <td>Caterpillar Track</td>\n",
       "      <td>http://cache.lego.com/media/bricks/5/2/4502834...</td>\n",
       "      <td>11</td>\n",
       "    </tr>\n",
       "    <tr>\n",
       "      <th>4</th>\n",
       "      <td>31313-1</td>\n",
       "      <td>370626</td>\n",
       "      <td>9</td>\n",
       "      <td>Black</td>\n",
       "      <td>Technic</td>\n",
       "      <td>3706</td>\n",
       "      <td>Cross Axle 6M</td>\n",
       "      <td>http://cache.lego.com/media/bricks/5/2/370626.jpg</td>\n",
       "      <td>761</td>\n",
       "    </tr>\n",
       "  </tbody>\n",
       "</table>\n",
       "</div>"
      ],
      "text/plain": [
       "  SetNumber   PartID  Quantity Colour Category  DesignID  \\\n",
       "0   31313-1  4184286         4  Black   System     44309   \n",
       "1   31313-1  4246901         2  Black   System     50951   \n",
       "2   31313-1  4299389         4  Black   System     56145   \n",
       "3   31313-1  4502834         2  Black   System     53992   \n",
       "4   31313-1   370626         9  Black  Technic      3706   \n",
       "\n",
       "                        PartName  \\\n",
       "0    Tyre Normal Wide Ø43,2 X 22   \n",
       "1  Tyre Low Narrow Ø14.58 X 6.24   \n",
       "2         Rim Wide W.Cross 30/20   \n",
       "3              Caterpillar Track   \n",
       "4                  Cross Axle 6M   \n",
       "\n",
       "                                            ImageURL  SetCount  \n",
       "0  http://cache.lego.com/media/bricks/5/2/4184286...        55  \n",
       "1  http://cache.lego.com/media/bricks/5/2/4246901...       130  \n",
       "2  http://cache.lego.com/media/bricks/5/2/4299389...        59  \n",
       "3  http://cache.lego.com/media/bricks/5/2/4502834...        11  \n",
       "4  http://cache.lego.com/media/bricks/5/2/370626.jpg       761  "
      ]
     },
     "execution_count": 2,
     "metadata": {},
     "output_type": "execute_result"
    }
   ],
   "source": [
    "df.head()"
   ]
  },
  {
   "cell_type": "code",
   "execution_count": 48,
   "metadata": {
    "collapsed": true
   },
   "outputs": [],
   "source": [
    "import requests\n",
    "import os\n",
    "\n",
    "root = r'C:\\work\\pyconau2017\\pyconau2017\\images\\parts'\n",
    "\n",
    "for row in df.itertuples():\n",
    "    #print(row, type(row), dir(row))\n",
    "    name = row.PartName.replace('Ø','').replace('°','').replace('/','-').replace(',','').replace('.','').replace('  ',' ').replace(' ','_')\n",
    "    try:\n",
    "        with open(os.path.join(root, '{0}.jpg'.format(name)), 'wb') as out:\n",
    "            out.write(requests.get(row.ImageURL).content)\n",
    "    except Exception as e:\n",
    "        print(e.args[0], name)\n"
   ]
  },
  {
   "cell_type": "code",
   "execution_count": 50,
   "metadata": {},
   "outputs": [
    {
     "name": "stdout",
     "output_type": "stream",
     "text": [
      "Tyre_Normal_Wide_432_X_22 http://cache.lego.com/media/bricks/5/2/4184286.jpg\n",
      "Tyre_Low_Narrow_1458_X_624 http://cache.lego.com/media/bricks/5/2/4246901.jpg\n",
      "Rim_Wide_WCross_30-20 http://cache.lego.com/media/bricks/5/2/4299389.jpg\n",
      "Caterpillar_Track http://cache.lego.com/media/bricks/5/2/4502834.jpg\n",
      "Cross_Axle_6M http://cache.lego.com/media/bricks/5/2/370626.jpg\n",
      "Double_Angular_Beam_3X7_45 http://cache.lego.com/media/bricks/5/2/4111998.jpg\n",
      "Technic_Ang_Beam_4X2_90_Deg http://cache.lego.com/media/bricks/5/2/4120017.jpg\n",
      "Connector_Peg_W_Friction http://cache.lego.com/media/bricks/5/2/4121715.jpg\n",
      "Technic_Angular_Beam_4X4 http://cache.lego.com/media/bricks/5/2/4128593.jpg\n",
      "Technic_Angular_Beam_3X7 http://cache.lego.com/media/bricks/5/2/4140327.jpg\n",
      "Lt_Steering_Gear http://cache.lego.com/media/bricks/5/2/4141300.jpg\n",
      "Technic_5M_Beam http://cache.lego.com/media/bricks/5/2/4142135.jpg\n",
      "Technic_3M_Beam http://cache.lego.com/media/bricks/5/2/4142822.jpg\n",
      "Technic_Ang_Beam_3X5_90_Deg http://cache.lego.com/media/bricks/5/2/4142823.jpg\n",
      "Comb_Wheel http://cache.lego.com/media/bricks/5/2/4143187.jpg\n",
      "Double_Conical_Wheel_Z12_1M http://cache.lego.com/media/bricks/5/2/4177431.jpg\n",
      "Ball_With_Friction_Snap http://cache.lego.com/media/bricks/5/2/4184169.jpg\n",
      "Technic_Angular_Wheel http://cache.lego.com/media/bricks/5/2/4248204.jpg\n",
      "Double_Conical_Wheel_Z36 http://cache.lego.com/media/bricks/5/2/4255563.jpg\n",
      "Technic_7M_Beam http://cache.lego.com/media/bricks/5/2/4495935.jpg\n",
      "Technic_13M_Beam http://cache.lego.com/media/bricks/5/2/4522933.jpg\n",
      "Technic_15M_Beam http://cache.lego.com/media/bricks/5/2/4542573.jpg\n",
      "T-Beam_3X3_W-Hole_48 http://cache.lego.com/media/bricks/5/2/4552347.jpg\n",
      "Beam_3M_485_W_Fork http://cache.lego.com/media/bricks/5/2/4558692.jpg\n",
      "Track_Rod_6M http://cache.lego.com/media/bricks/5/2/4629921.jpg\n",
      "Technic_9M_Beam http://cache.lego.com/media/bricks/5/2/4645732.jpg\n",
      "Beam_1X2_W-Cross_And_Hole http://cache.lego.com/media/bricks/5/2/6006140.jpg\n",
      "Tyre_For_Wedge-Belt_Wheel http://cache.lego.com/media/bricks/5/2/6028041.jpg\n",
      "Double_Conical_Wheel_Z20_1M http://cache.lego.com/media/bricks/5/2/6093977.jpg\n",
      "Ev3_Cable_250_Mm http://cache.lego.com/media/bricks/4/2/6178438.jpg\n",
      "Ev3_Cable_350_Mm http://cache.lego.com/media/bricks/4/2/6178439.jpg\n",
      "Ev3_Cable_500_Mm http://cache.lego.com/media/bricks/4/2/6178448.jpg\n",
      "Shooter http://cache.lego.com/media/bricks/5/2/6024106.jpg\n",
      "Magasine_For_Balls_165 http://cache.lego.com/media/bricks/5/2/6024109.jpg\n",
      "3M_Connector_Peg http://cache.lego.com/media/bricks/5/2/4514554.jpg\n",
      "Conical_Wheel_Z12 http://cache.lego.com/media/bricks/5/2/4565452.jpg\n",
      "Krydsaksel_M-Stop_4M http://cache.lego.com/media/bricks/5/2/4666999.jpg\n",
      "Bevel_Gear_Z20 http://cache.lego.com/media/bricks/5/2/6031962.jpg\n",
      "ConnBush_WFric-Crossale http://cache.lego.com/media/bricks/5/2/4206482.jpg\n",
      "Connector_Peg_W_Friction_3M http://cache.lego.com/media/bricks/5/2/4514553.jpg\n",
      "V-Belt_24_-_Clear_Red http://cache.lego.com/media/bricks/5/2/4100396.jpg\n",
      "Technic_Cross_Block_2X1 http://cache.lego.com/media/bricks/5/2/4128594.jpg\n",
      "Double_Cross_Block http://cache.lego.com/media/bricks/5/2/4128598.jpg\n",
      "2M_Fric_Snap_W-Cross_Hole http://cache.lego.com/media/bricks/5/2/4140806.jpg\n",
      "2M_Cross_Axle_W_Groove http://cache.lego.com/media/bricks/5/2/4142865.jpg\n",
      "Technic_Cross_Block-Fork_2X2 http://cache.lego.com/media/bricks/5/2/4173975.jpg\n",
      "Cross_Blok_3M http://cache.lego.com/media/bricks/5/2/4175442.jpg\n",
      "Cross_Block_90 http://cache.lego.com/media/bricks/5/2/4188298.jpg\n",
      "Angle_Element_90_Degrees_[6] http://cache.lego.com/media/bricks/5/2/4189131.jpg\n",
      "Angle_Element_135_Deg_[4] http://cache.lego.com/media/bricks/5/2/4189936.jpg\n",
      "Bush_For_Cross_Axle http://cache.lego.com/media/bricks/5/2/4227155.jpg\n",
      "Angle_Element_180_Degrees_[2] http://cache.lego.com/media/bricks/5/2/4234429.jpg\n",
      "Angle_Element_0_Degrees_[1] http://cache.lego.com/media/bricks/5/2/4254606.jpg\n",
      "Cross_Axle_Extension_2M http://cache.lego.com/media/bricks/5/2/4513174.jpg\n",
      "Technic_11M_Beam http://cache.lego.com/media/bricks/5/2/4562805.jpg\n",
      "Bion_Eye http://cache.lego.com/media/bricks/5/2/4185661.jpg\n",
      "Ball_165 http://cache.lego.com/media/bricks/5/2/4545430.jpg\n",
      "1-2_Bush http://cache.lego.com/media/bricks/5/2/4239601.jpg\n",
      "Cross_Axle_8M_With_End_Stop http://cache.lego.com/media/bricks/5/2/4499858.jpg\n",
      "Cross_Axle_55_With_Stop_1M http://cache.lego.com/media/bricks/5/2/4508553.jpg\n",
      "Cross_Axle_4M_With_End_Stop http://cache.lego.com/media/bricks/5/2/6083620.jpg\n",
      "Gear_Wheel_Z24 http://cache.lego.com/media/bricks/5/2/6133119.jpg\n",
      "Ball_W_Cross_Axle http://cache.lego.com/media/bricks/5/2/4211375.jpg\n",
      "Catch_W_Cross_Hole http://cache.lego.com/media/bricks/5/2/4211553.jpg\n",
      "Technic_Lever_3M http://cache.lego.com/media/bricks/5/2/4211566.jpg\n",
      "Cross_Axle_5M http://cache.lego.com/media/bricks/5/2/4211639.jpg\n",
      "Hub_112_X_784 http://cache.lego.com/media/bricks/5/2/4211758.jpg\n",
      "Cross_Axle_7M http://cache.lego.com/media/bricks/5/2/4211805.jpg\n",
      "Connector_Peg http://cache.lego.com/media/bricks/5/2/4211807.jpg\n",
      "Cross_Axle_3M http://cache.lego.com/media/bricks/5/2/4211815.jpg\n",
      "Module_Bush http://cache.lego.com/media/bricks/5/2/4211888.jpg\n",
      "Beam_3_M_W-4_Snaps http://cache.lego.com/media/bricks/5/2/4225033.jpg\n",
      "Wedge-Belt_Wheel_24 http://cache.lego.com/media/bricks/5/2/4494222.jpg\n",
      "3-Branch_Cross_Axle_W-Cross_H http://cache.lego.com/media/bricks/5/2/4502595.jpg\n",
      "Cross_Axle_9M http://cache.lego.com/media/bricks/5/2/4535768.jpg\n",
      "Cross_Block_3X2 http://cache.lego.com/media/bricks/5/2/4538007.jpg\n",
      "Beam_Frame_5X7_485 http://cache.lego.com/media/bricks/5/2/4539880.jpg\n",
      "Beam_R_Frame_5X11_485 http://cache.lego.com/media/bricks/5/2/4540797.jpg\n",
      "Double_Bush_3M_49 http://cache.lego.com/media/bricks/5/2/4560175.jpg\n",
      "Cross_Block-Form_2X2X2 http://cache.lego.com/media/bricks/5/2/4630114.jpg\n",
      "Technic_Steering-Gear_3M http://cache.lego.com/media/bricks/5/2/6013936.jpg\n",
      "Ms_Ev3_Sensor_Colour http://cache.lego.com/media/bricks/5/2/6128869.jpg\n",
      "Ms-Ev3_Ir_Sensor http://cache.lego.com/media/bricks/5/2/6132629.jpg\n",
      "Ms_Ev3_Touch_Sensor http://cache.lego.com/media/bricks/5/2/6138404.jpg\n",
      "Ms-Ev3_Medium_Motor http://cache.lego.com/media/bricks/5/2/6148292.jpg\n",
      "Tube_W-_Double_485_Hole http://cache.lego.com/media/bricks/5/2/6173127.jpg\n",
      "Worm_Gear_2_Module_For_Gear_Wheel http://cache.lego.com/media/bricks/5/2/6185471.jpg\n",
      "Sword http://cache.lego.com/media/bricks/5/2/4657296.jpg\n",
      "Crossaxle_3M_With_Knob http://cache.lego.com/media/bricks/5/2/6031821.jpg\n",
      "Left_Panel_3X7 http://cache.lego.com/media/bricks/5/2/4547581.jpg\n",
      "Right_Panel_3X7 http://cache.lego.com/media/bricks/5/2/4547582.jpg\n",
      "Right_Panel_3X11 http://cache.lego.com/media/bricks/5/2/4558797.jpg\n",
      "Left_Panel_3X11 http://cache.lego.com/media/bricks/5/2/4558802.jpg\n",
      "Right_Screen_485_4X7X4 http://cache.lego.com/media/bricks/5/2/6015596.jpg\n",
      "Left_Screen_485_4X7X4 http://cache.lego.com/media/bricks/5/2/6015597.jpg\n",
      "Ms-Ev3_Ir_Beacon http://cache.lego.com/media/bricks/5/2/6127283.jpg\n",
      "Ms-Ev3_Large_Motor http://cache.lego.com/media/bricks/5/2/6148278.jpg\n",
      "Ms-Ev3_P-Brick http://cache.lego.com/media/bricks/5/2/6187080.jpg\n",
      "Bion_Eye http://cache.lego.com/media/bricks/5/2/4173941.jpg\n",
      "Blade_W_Technic_Hole_1 http://cache.lego.com/media/bricks/5/2/4656205.jpg\n"
     ]
    }
   ],
   "source": [
    "for row in df.itertuples():\n",
    "    #print(row, type(row), dir(row))\n",
    "    name = row.PartName.replace('Ø','').replace('°','').replace('/','-').replace(',','').replace('.','').replace('  ',' ').replace(' ','_')\n",
    "    print(name, row.ImageURL)"
   ]
  },
  {
   "cell_type": "code",
   "execution_count": 49,
   "metadata": {
    "collapsed": true
   },
   "outputs": [],
   "source": [
    "names = []\n",
    "for row in df.itertuples():\n",
    "    #print(row, type(row), dir(row))\n",
    "    name = row.PartName.replace('Ø','').replace('°','').replace('/','-').replace(',','').replace('.','').replace('  ',' ').replace(' ','_')\n",
    "    for i in range(0, row.Quantity):\n",
    "        names.append(name)\n",
    "with open(os.path.join(root, 'parts.txt'), 'w') as out:\n",
    "    out.write(' '.join(names))"
   ]
  },
  {
   "cell_type": "code",
   "execution_count": 3,
   "metadata": {
    "slideshow": {
     "slide_type": "subslide"
    }
   },
   "outputs": [
    {
     "data": {
      "text/html": [
       "\n",
       "        <iframe\n",
       "            width=\"100%\"\n",
       "            height=\"500\"\n",
       "            src=\"pivottablejs.html\"\n",
       "            frameborder=\"0\"\n",
       "            allowfullscreen\n",
       "        ></iframe>\n",
       "        "
      ],
      "text/plain": [
       "<IPython.lib.display.IFrame at 0x2188ce81cc0>"
      ]
     },
     "execution_count": 3,
     "metadata": {},
     "output_type": "execute_result"
    }
   ],
   "source": [
    "pivot_ui(df)"
   ]
  },
  {
   "cell_type": "markdown",
   "metadata": {
    "slideshow": {
     "slide_type": "slide"
    }
   },
   "source": [
    "![Innodev Logo](./images/innodev_logo_stacked.jpg)"
   ]
  },
  {
   "cell_type": "markdown",
   "metadata": {
    "slideshow": {
     "slide_type": "slide"
    }
   },
   "source": [
    "# Programming Lego Mindstorms with Python\n",
    "\n",
    "## Stoyan Shopov\n",
    "\n",
    "#      \n",
    "\n",
    "#   \n",
    "   \n",
    "\n",
    "![Innodev Logo](./images/innodev_logo_landscape.jpg)"
   ]
  },
  {
   "cell_type": "markdown",
   "metadata": {
    "slideshow": {
     "slide_type": "slide"
    }
   },
   "source": [
    "|               |               |\n",
    "| ------------- |:-------------:|\n",
    "|  #Programming Lego Mindstorms with Python#    | ![Innodev Logo](./images/innodev_logo_stacked.jpg) |"
   ]
  },
  {
   "cell_type": "code",
   "execution_count": 58,
   "metadata": {},
   "outputs": [
    {
     "name": "stdout",
     "output_type": "stream",
     "text": [
      "100\n",
      "0 0 0\n",
      "1 0 50\n",
      "2 0 100\n",
      "3 0 150\n",
      "4 0 200\n",
      "5 0 250\n",
      "6 0 300\n",
      "7 0 350\n",
      "8 0 400\n",
      "9 0 450\n",
      "10 50 0\n",
      "11 50 50\n",
      "12 50 100\n",
      "13 50 150\n",
      "14 50 200\n",
      "15 50 250\n",
      "16 50 300\n",
      "17 50 350\n",
      "18 50 400\n",
      "19 50 450\n",
      "20 100 0\n",
      "21 100 50\n",
      "22 100 100\n",
      "23 100 150\n",
      "24 100 200\n",
      "25 100 250\n",
      "26 100 300\n",
      "27 100 350\n",
      "28 100 400\n",
      "29 100 450\n",
      "30 150 0\n",
      "31 150 50\n",
      "32 150 100\n",
      "33 150 150\n",
      "34 150 200\n",
      "35 150 250\n",
      "36 150 300\n",
      "37 150 350\n",
      "38 150 400\n",
      "39 150 450\n",
      "40 200 0\n",
      "41 200 50\n",
      "42 200 100\n",
      "43 200 150\n",
      "44 200 200\n",
      "45 200 250\n",
      "46 200 300\n",
      "47 200 350\n",
      "48 200 400\n",
      "49 200 450\n",
      "50 250 0\n",
      "51 250 50\n",
      "52 250 100\n",
      "53 250 150\n",
      "54 250 200\n",
      "55 250 250\n",
      "56 250 300\n",
      "57 250 350\n",
      "58 250 400\n",
      "59 250 450\n",
      "60 300 0\n",
      "61 300 50\n",
      "62 300 100\n",
      "63 300 150\n",
      "64 300 200\n",
      "65 300 250\n",
      "66 300 300\n",
      "67 300 350\n",
      "68 300 400\n",
      "69 300 450\n",
      "70 350 0\n",
      "71 350 50\n",
      "72 350 100\n",
      "73 350 150\n",
      "74 350 200\n",
      "75 350 250\n",
      "76 350 300\n",
      "77 350 350\n",
      "78 350 400\n",
      "79 350 450\n",
      "80 400 0\n",
      "81 400 50\n",
      "82 400 100\n",
      "83 400 150\n",
      "84 400 200\n",
      "85 400 250\n",
      "86 400 300\n",
      "87 400 350\n",
      "88 400 400\n",
      "89 400 450\n",
      "90 450 0\n",
      "91 450 50\n",
      "92 450 100\n",
      "93 450 150\n",
      "94 450 200\n",
      "95 450 250\n",
      "96 450 300\n",
      "97 450 350\n",
      "98 450 400\n",
      "99 450 450\n"
     ]
    }
   ],
   "source": [
    "import glob\n",
    "from PIL import Image\n",
    "\n",
    "#https://stackoverflow.com/questions/35438802/making-a-collage-in-pil\n",
    "'''im= Image.open('Tulips.jpg')\n",
    "\n",
    "out=im.convert(\"RGB\", (\n",
    "    0.412453, 0.357580, 0.180423, 0,\n",
    "    0.212671, 0.715160, 0.072169, 0,\n",
    "    0.019334, 0.119193, 0.950227, 0 ))\n",
    "out.save(\"Image2.jpg\")\n",
    "\n",
    "out2=im.convert(\"RGB\", (\n",
    "    0.9756324, 0.154789, 0.180423, 0,\n",
    "    0.212671, 0.715160, 0.254783, 0,\n",
    "    0.123456, 0.119193, 0.950227, 0 ))\n",
    "out2.save(\"Image3.jpg\")\n",
    "\n",
    "out3= im.convert(\"1\")\n",
    "out3.save(\"Image4.jpg\")\n",
    "\n",
    "out4=im.convert(\"RGB\", (\n",
    "    0.986542, 0.154789, 0.756231, 0,\n",
    "    0.212671, 0.715160, 0.254783, 0,\n",
    "    0.123456, 0.119193, 0.112348, 0 ))\n",
    "out4.save(\"Image5.jpg\")\n",
    "\n",
    "out5=Image.blend(im, out4, 0.5)\n",
    "out5.save(\"Image6.jpg\")'''\n",
    "\n",
    "listofimages=['Tulips.jpg', 'Image2.jpg', 'Image3.jpg', 'Image4.jpg', 'Image5.jpg', 'Image6.jpg']\n",
    "listofimages = glob.glob(r'C:\\work\\pyconau2017\\pyconau2017\\images\\parts\\*.jpg')\n",
    "print(len(listofimages))\n",
    "def create_collage(width, height, listofimages):\n",
    "    cols = 10\n",
    "    rows = 10\n",
    "    thumbnail_width = width//cols\n",
    "    thumbnail_height = height//rows\n",
    "    size = thumbnail_width, thumbnail_height\n",
    "    new_im = Image.new('RGB', (width, height))\n",
    "    ims = []\n",
    "    for p in listofimages:\n",
    "        im = Image.open(p)\n",
    "        im.thumbnail(size)\n",
    "        ims.append(im)\n",
    "    i = 0\n",
    "    x = 0\n",
    "    y = 0\n",
    "    for col in range(cols):\n",
    "        for row in range(rows):\n",
    "            print(i, x, y)\n",
    "            if i<len(ims):\n",
    "                new_im.paste(ims[i], (x, y))\n",
    "                i += 1\n",
    "                y += thumbnail_height\n",
    "        x += thumbnail_width\n",
    "        y = 0\n",
    "\n",
    "    new_im.save(r\"C:\\work\\pyconau2017\\pyconau2017\\images\\Collage.jpg\")\n",
    "\n",
    "create_collage(500, 500, listofimages)"
   ]
  },
  {
   "cell_type": "code",
   "execution_count": null,
   "metadata": {
    "collapsed": true
   },
   "outputs": [],
   "source": [
    "import os\n",
    "ps=[]\n",
    "for p in os.listdir(r'C:\\work\\pyconau2017\\pyconau2017\\images'):\n",
    "    if p.startswith('Product'):\n",
    "        ps.append('![{0}](./images/{0})'.format(p))\n",
    "        \n",
    "print(' | '.join(ps))"
   ]
  },
  {
   "cell_type": "code",
   "execution_count": null,
   "metadata": {
    "collapsed": true
   },
   "outputs": [],
   "source": [
    "#!/usr/bin/env python3\n",
    "from ev3dev.ev3 import *\n",
    "from time import sleep\n",
    "from PIL import Image\n",
    "\n",
    "lcd = Screen()\n",
    "\n",
    "logo = Image.open('pics/Bomb.bmp')\n",
    "lcd.image.paste(logo, (0,0))\n",
    "lcd.update()\n",
    "sleep(5) \n",
    "\n",
    "f = ImageFont.truetype('/usr/share/fonts/truetype/msttcorefonts/Arial.ttf', 75)\n",
    "lcd.draw.text((3,0), 'Hello', font=f)\n",
    "lcd.draw.text((2,55), 'world', font=f)\n",
    "lcd.update()\n",
    "\n",
    "sleep(7) \n",
    "\n",
    "lcd.draw.text((10,10), 'Hello World!', font=fonts.load('luBS14'))\n",
    "lcd.update()\n",
    "sleep(8)\n",
    "\n",
    "lcd.draw.rectangle((0,0,177,40), fill='black')\n",
    "lcd.draw.text((48,13),'Hello, world.', fill='white')\n",
    "my_string='THIS TEXT IS BLACK'\n",
    "print(lcd.draw.textsize(my_string))\n",
    "lcd.draw.text((36,80),my_string)\n",
    "lcd.update()\n",
    "sleep(6)\n",
    "\n",
    "lcd.draw.rectangle((0,0,177,40), fill='black')\n",
    "lcd.draw.text((48,13),'Hello, world.', fill='white')\n",
    "lcd.draw.text((36,80),'THIS TEXT IS BLACK')\n",
    "lcd.update()\n",
    "sleep(6)"
   ]
  },
  {
   "cell_type": "code",
   "execution_count": null,
   "metadata": {
    "collapsed": true
   },
   "outputs": [],
   "source": [
    "#!/usr/bin/env python3\n",
    "from time import sleep\n",
    "from ev3dev.ev3 import *\n",
    "\n",
    "lcd = Screen()\n",
    "\n",
    "smile = True\n",
    "\n",
    "while True:\n",
    "    lcd.clear()\n",
    "\n",
    "    # lcd.draw returns a PIL.ImageDraw handle\n",
    "    lcd.draw.ellipse(( 20, 20,  60, 60))\n",
    "    lcd.draw.ellipse((118, 20, 158, 60))\n",
    "\n",
    "    if smile:\n",
    "        lcd.draw.arc((20, 80, 158, 100), 0, 180)\n",
    "    else:\n",
    "        lcd.draw.arc((20, 80, 158, 100), 180, 360)\n",
    "\n",
    "    smile = not smile  # toggle between True and False\n",
    "\n",
    "    # Update lcd display\n",
    "    lcd.update() # Applies pending changes to the screen.\n",
    "    # Nothing will be drawn on the lcd screen\n",
    "    # until this function is called.\n",
    "\n",
    "    sleep(1)"
   ]
  },
  {
   "cell_type": "code",
   "execution_count": 9,
   "metadata": {
    "collapsed": true
   },
   "outputs": [],
   "source": [
    "from PIL import Image, ImageDraw\n",
    "im = Image.new('RGB', (178,128), 'red')\n",
    "draw = ImageDraw.Draw(im)\n",
    "draw.ellipse(( 20, 20, 60, 60))\n",
    "draw.ellipse((118, 20, 158, 60))\n",
    "draw.arc((20, 80, 158, 100), 0, 180)\n",
    "draw.arc((20, 80, 158, 100), 180, 360)\n",
    "\n",
    "\n",
    "draw.line((0, 0) + im.size, fill=128)\n",
    "draw.line((0, im.size[1], im.size[0], 0), fill=128)\n",
    "\n",
    "im.show()\n"
   ]
  },
  {
   "cell_type": "code",
   "execution_count": 8,
   "metadata": {},
   "outputs": [
    {
     "name": "stdout",
     "output_type": "stream",
     "text": [
      "(178, 128)\n"
     ]
    }
   ],
   "source": [
    "print(im.size)"
   ]
  },
  {
   "cell_type": "code",
   "execution_count": 6,
   "metadata": {
    "collapsed": true
   },
   "outputs": [],
   "source": [
    "from PIL import Image, ImageDraw\n",
    "im = Image.new('RGB', (178,128),'red')\n",
    "draw = ImageDraw.Draw(im)\n",
    "\n",
    "def draw_face():\n",
    "    w,h = 178,128\n",
    "    y = h // 2\n",
    "\n",
    "    eye_xrad = 20\n",
    "    eye_yrad = 30\n",
    "\n",
    "    pup_xrad = 10\n",
    "    pup_yrad = 10\n",
    "\n",
    "    def draw_eye(x):\n",
    "        draw.ellipse((x-eye_xrad, y-eye_yrad, x+eye_xrad, y+eye_yrad))\n",
    "        draw.ellipse((x-pup_xrad, y-pup_yrad, x+pup_xrad, y+pup_yrad), fill='black')\n",
    "\n",
    "    draw_eye(w//3)\n",
    "    draw_eye(2*w//3)\n",
    "\n",
    "    im.show()\n",
    "draw_face()"
   ]
  },
  {
   "cell_type": "code",
   "execution_count": null,
   "metadata": {
    "collapsed": true
   },
   "outputs": [],
   "source": [
    "screen = ev3.Screen()\n",
    "def draw_face():\n",
    "    w,h = screen.shape\n",
    "    y = h // 2\n",
    "\n",
    "    eye_xrad = 20\n",
    "    eye_yrad = 30\n",
    "\n",
    "    pup_xrad = 10\n",
    "    pup_yrad = 10\n",
    "\n",
    "    def draw_eye(x):\n",
    "        screen.draw.ellipse((x-eye_xrad, y-eye_yrad, x+eye_xrad, y+eye_yrad))\n",
    "        screen.draw.ellipse((x-pup_xrad, y-pup_yrad, x+pup_xrad, y+pup_yrad), fill='black')\n",
    "\n",
    "    draw_eye(w//3)\n",
    "    draw_eye(2*w//3)\n",
    "\n",
    "    screen.update()\n",
    "draw_face()"
   ]
  },
  {
   "cell_type": "code",
   "execution_count": null,
   "metadata": {
    "collapsed": true
   },
   "outputs": [],
   "source": [
    "#!/usr/bin/env python3\n",
    "\n",
    "from ev3dev.ev3 import *\n",
    "from time import sleep\n",
    "\n",
    "btn = Button()\n",
    "\n",
    "# Do something when state of any button changes:\n",
    "  \n",
    "def left(state):\n",
    "    if state:\n",
    "        print('Left button pressed')\n",
    "    else:\n",
    "        print('Left button released')\n",
    "    \n",
    "def right(state):  # neater use of 'if' follows:\n",
    "    print('Right button pressed' if state else 'Right button released')\n",
    "    \n",
    "def up(state):\n",
    "    print('Up button pressed' if state else 'Up button released')\n",
    "    \n",
    "def down(state):\n",
    "    print('Down button pressed' if state else 'Down button released')\n",
    "    \n",
    "def enter(state):\n",
    "    print('Enter button pressed' if state else 'Enter button released')\n",
    "    \n",
    "def backspace(state):\n",
    "    print('Backspace button pressed' if state else 'Backspace button released')\n",
    "    \n",
    "btn.on_left = left\n",
    "btn.on_right = right\n",
    "btn.on_up = up\n",
    "btn.on_down = down\n",
    "btn.on_enter = enter\n",
    "btn.on_backspace = backspace\n",
    "\n",
    "while True:  # This loop checks buttons state continuously, \n",
    "             # calls appropriate event handlers\n",
    "    btn.process() # Check for currently pressed buttons. \n",
    "    # If the new state differs from the old state, \n",
    "    # call the appropriate button event handlers.\n",
    "    sleep(0.01)  # buttons state will be checked every 0.01 second\n",
    "\n",
    "# If running this script via SSH, press Ctrl+C to quit\n",
    "# if running this script from Brickman, long-press backspace button to quit\n",
    "\n",
    "\n",
    "def change(changed_buttons):   # changed_buttons is a list of \n",
    "# tuples of changed button names and their states.\n",
    "    print('These buttons changed state: ' + str(changed_buttons))\n",
    "\n",
    "btn.on_change = change\n",
    "\n",
    "while True:  # This loop checks buttons state\n",
    "# continuously and calls appropriate event handlers\n",
    "    btn.process()\n",
    "    sleep(0.01)\n",
    "    \n",
    "    \n",
    "while True:\n",
    "    if btn.any():    # Checks if any button is pressed.\n",
    "        exit()\n",
    "    else:\n",
    "        sleep(0.01)  # Check for button press every 0.01 second\n",
    "        \n",
    "\n",
    "while not btn.backspace:\n",
    "    print(btn.left)\n",
    "    sleep(1)\n",
    "    \n",
    "#end the script by pressing ONLY the left and right buttons simultaneously    \n",
    "while True:\n",
    "    print(btn.buttons_pressed)\n",
    "    if btn.check_buttons(buttons=['left','right']):\n",
    "        exit()\n",
    "    sleep(1)    "
   ]
  },
  {
   "cell_type": "code",
   "execution_count": null,
   "metadata": {
    "collapsed": true
   },
   "outputs": [],
   "source": [
    "# This demo shows how to remote control an Explor3r robot\n",
    "#\n",
    "# Red buttons control left motor, blue buttons control right motor.\n",
    "# Leds are used to indicate movement direction.\n",
    "\n",
    "from time import sleep\n",
    "from ev3dev.ev3 import *\n",
    "\n",
    "# Connect two large motors on output ports B and C\n",
    "lmotor = LargeMotor('outB')\n",
    "rmotor = LargeMotor('outC')\n",
    "\n",
    "# Check that the motors are actually connected\n",
    "assert lmotor.connected\n",
    "assert rmotor.connected\n",
    "\n",
    "# Connect remote control\n",
    "rc = RemoteControl(); assert rc.connected\n",
    "\n",
    "# Initialize button handler\n",
    "# button = Button()   # not working so disabled\n",
    "\n",
    "# Turn leds off\n",
    "Leds.all_off()\n",
    "\n",
    "def roll(motor, led_group, direction):\n",
    "    \"\"\"\n",
    "    Generate remote control event handler. It rolls given motor into given\n",
    "    direction (1 for forward, -1 for backward). When motor rolls forward, the\n",
    "    given led group flashes green, when backward -- red. When motor stops, the\n",
    "    leds are turned off.\n",
    "\n",
    "    The on_press function has signature required by RemoteControl class.\n",
    "    It takes boolean state parameter; True when button is pressed, False\n",
    "    otherwise.\n",
    "    \"\"\"\n",
    "    def on_press(state):\n",
    "        if state:\n",
    "            # Roll when button is pressed\n",
    "            motor.run_forever(speed_sp=90*direction)\n",
    "            Leds.set_color(led_group, direction > 0 and Leds.GREEN or Leds.RED)\n",
    "        else:\n",
    "            # Stop otherwise\n",
    "            motor.stop(stop_action='brake')\n",
    "            Leds.set(led_group, brightness_pct=0)\n",
    "\n",
    "    return on_press\n",
    "\n",
    "# Assign event handler to each of the remote buttons\n",
    "rc.on_red_up    = roll(lmotor, Leds.LEFT,   1)\n",
    "rc.on_red_down  = roll(lmotor, Leds.LEFT,  -1)\n",
    "rc.on_blue_up   = roll(rmotor, Leds.RIGHT,  1)\n",
    "rc.on_blue_down = roll(rmotor, Leds.RIGHT, -1)\n",
    "\n",
    "# Enter event processing loop\n",
    "#while not button.any():   #not working so commented out\n",
    "while True:   #replaces previous line so use Ctrl-C to exit\n",
    "    rc.process()\n",
    "    sleep(0.01)\n",
    "    \n",
    "# Press Ctrl-C to exit"
   ]
  },
  {
   "cell_type": "code",
   "execution_count": null,
   "metadata": {
    "collapsed": true
   },
   "outputs": [],
   "source": [
    "cl = ev3.ColorSensor()\n",
    "ts = ev3.TouchSensor()\n",
    "cl.mode = 'COL-COLOR'\n",
    "\n",
    "colors = ('unknown black blue green yellow red white brown'.split())\n",
    "\n",
    "last_color = None\n",
    "while not ts.value():\n",
    "    color = colors[cl.value()]\n",
    "    if not last_color == color:\n",
    "        ev3.Sound.speak(color).wait()\n",
    "        last_color = color\n",
    "    time.sleep(1)"
   ]
  },
  {
   "cell_type": "code",
   "execution_count": 61,
   "metadata": {},
   "outputs": [
    {
     "name": "stdout",
     "output_type": "stream",
     "text": [
      "Requirement already satisfied: folium in c:\\users\\stoyan\\anaconda3\\lib\\site-packages\n",
      "Requirement already satisfied: Jinja2 in c:\\users\\stoyan\\anaconda3\\lib\\site-packages (from folium)\n",
      "Requirement already satisfied: six in c:\\users\\stoyan\\anaconda3\\lib\\site-packages (from folium)\n",
      "Requirement already satisfied: branca in c:\\users\\stoyan\\anaconda3\\lib\\site-packages (from folium)\n",
      "Requirement already satisfied: MarkupSafe>=0.23 in c:\\users\\stoyan\\anaconda3\\lib\\site-packages (from Jinja2->folium)\n"
     ]
    }
   ],
   "source": [
    "!pip install folium"
   ]
  },
  {
   "cell_type": "code",
   "execution_count": 63,
   "metadata": {},
   "outputs": [
    {
     "data": {
      "text/html": [
       "<div style=\"width:100%;\"><div style=\"position:relative;width:100%;height:0;padding-bottom:60%;\"><iframe src=\"data:text/html;charset=utf-8;base64,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\" style=\"position:absolute;width:100%;height:100%;left:0;top:0;border:none !important;\" allowfullscreen webkitallowfullscreen mozallowfullscreen></iframe></div></div>"
      ],
      "text/plain": [
       "<folium.folium.Map at 0x218916fc8d0>"
      ]
     },
     "execution_count": 63,
     "metadata": {},
     "output_type": "execute_result"
    }
   ],
   "source": [
    "import folium\n",
    "map_osm = folium.Map(location=[45.5236, -122.6750])\n",
    "#map_osm.save('osm.html')\n",
    "map_osm"
   ]
  },
  {
   "cell_type": "code",
   "execution_count": null,
   "metadata": {
    "collapsed": true
   },
   "outputs": [],
   "source": [
    "\n",
    "youtube pics\n",
    "practice\n",
    "test\n",
    "intro brick before flashing\n",
    "\n",
    "leaflet\n",
    "\n"
   ]
  }
 ],
 "metadata": {
  "celltoolbar": "Slideshow",
  "kernelspec": {
   "display_name": "Python 3",
   "language": "python",
   "name": "python3"
  },
  "language_info": {
   "codemirror_mode": {
    "name": "ipython",
    "version": 3
   },
   "file_extension": ".py",
   "mimetype": "text/x-python",
   "name": "python",
   "nbconvert_exporter": "python",
   "pygments_lexer": "ipython3",
   "version": "3.6.1"
  }
 },
 "nbformat": 4,
 "nbformat_minor": 1
}
