{
 "cells": [
  {
   "cell_type": "markdown",
   "metadata": {},
   "source": [
    "https://en.wikipedia.org/wiki/Lego_Mindstorms\n",
    "# 0-2 minutes:\n",
    "* Introduction\n",
    "* A bit about me\n",
    "* What is Lego Mindstorms\n",
    "* Brief history\n",
    "# 2-5 minutes:\n",
    "* Cool stuff people have done with Mindstorms\n",
    "# 5-8 minutes:\n",
    "* The ev3dev operating system\n",
    "** What is it\n",
    "** How to install it and run it\n",
    "* The Python EV3 libraries\n",
    "** https://github.com/topikachu/python-ev3 \n",
    "** https://github.com/rhempel/ev3dev-lang-python#usage-examples\n",
    "# 8-12 minutes:\n",
    "* The motors and how to program them \n",
    "** Medium motor\n",
    "** Servo motor\n",
    "# 12-17 minutes:\n",
    "* The sensors and how to program them\n",
    "** Infrared\n",
    "** Touch\n",
    "** Gyro\n",
    "** Color\n",
    "** Ultrasonic\n",
    "** Power supply \n",
    "# 17-20 minutes:\n",
    "* Output options and how to program them\n",
    "** LED control \n",
    "** Sound and speech control\n",
    "** Screen control\n",
    "# 20-22 minutes:\n",
    "* Popular third-party sensors and parts \n",
    "** Dexter Industries\n",
    "** Mindsensors\n",
    "** HiTechnic \n",
    "** MATRIX robotics\n",
    "** Vernier \n",
    "* Extending the Python libraries to support custom sensors (might cut this one out if running short on time)\n",
    "# 22-23 minutes:\n",
    "* Other options to explore\n",
    "** BrickPi\n",
    "# 23-26 minutes:\n",
    "* Demo\n",
    "** Booting ev3dev\n",
    "** Running Jupyter notebook on the brick\n",
    "** Connecting to the Jupyter notebook and running \"Sound.speak('Hello PyCon Australia').\"\n",
    "# 26-30 minutes:\n",
    "* Thanks and Q&A "
   ]
  }
 ],
 "metadata": {
  "kernelspec": {
   "display_name": "Python 2",
   "language": "python",
   "name": "python2"
  },
  "language_info": {
   "codemirror_mode": {
    "name": "ipython",
    "version": 2
   },
   "file_extension": ".py",
   "mimetype": "text/x-python",
   "name": "python",
   "nbconvert_exporter": "python",
   "pygments_lexer": "ipython2",
   "version": "2.7.12"
  }
 },
 "nbformat": 4,
 "nbformat_minor": 1
}
