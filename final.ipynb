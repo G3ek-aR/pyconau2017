{
 "cells": [
  {
   "cell_type": "markdown",
   "metadata": {
    "slideshow": {
     "slide_type": "slide"
    }
   },
   "source": [
    "# Programming Lego Mindstorms with Python\n",
    "\n",
    "by\n",
    "\n",
    "## Stoyan Shopov (@hrastche)\n",
    "\n",
    "#  \n",
    "\n",
    "from\n",
    "\n",
    "\n",
    "\n",
    "![Innodev Logo](./images/innodev_logo_landscape.jpg)"
   ]
  },
  {
   "cell_type": "markdown",
   "metadata": {
    "slideshow": {
     "slide_type": "notes"
    }
   },
   "source": [
    "Welcome to Progamming Lego Mindstorms robots with Python.\n",
    "\n",
    "My name is Stoyan and I am a solution architect from Innodev. "
   ]
  },
  {
   "cell_type": "markdown",
   "metadata": {
    "slideshow": {
     "slide_type": "slide"
    }
   },
   "source": [
    "![me](./images/me-ev3-cropped.png)"
   ]
  },
  {
   "cell_type": "markdown",
   "metadata": {
    "slideshow": {
     "slide_type": "notes"
    }
   },
   "source": [
    "This is a story about how dreams come true. Ever since I remember I've wanted a robot of my own. I don't know how this idea got planted but I used to make robots out of toilet paper rolls, cigarette boxes, yogurt containers. When I was a bit older I even joined the electronics club. \n",
    "\n",
    "Then life happened, the dream faded and it wasn't until my 7-year old son Hugo started showing interest in Lego that I thought it was time to revisit the dream. \n",
    "\n",
    "So I did some research on robotics kits. I was looking for: \n",
    "* an all in one kit, meaning I don't have to buy anything else to get going; \n",
    "* something open ended, meaning that there is room for imagination to build many models\n",
    "* a vibrant community with helpful resources \n",
    "* and of course it has to be programmable in Python. \n",
    "\n",
    "So early this year I got myself an expensive birthday present on behalf of the family and it was Lego Mindstorms. \n",
    "\n",
    "At this stage I would like to make the disclaimer that I am not sponsored by Lego in any way and check by a show of hands, who is already living the dream and playing with Mindstorms?\n",
    "Great! "
   ]
  },
  {
   "cell_type": "markdown",
   "metadata": {
    "slideshow": {
     "slide_type": "slide"
    }
   },
   "source": [
    "![me](./images/ev3.jpg)"
   ]
  },
  {
   "cell_type": "markdown",
   "metadata": {
    "slideshow": {
     "slide_type": "notes"
    }
   },
   "source": [
    "So I acted surprised when I unwrapped my present. We opened the box and this is what we found:"
   ]
  },
  {
   "cell_type": "markdown",
   "metadata": {
    "slideshow": {
     "slide_type": "slide"
    }
   },
   "source": [
    "![what's in the box](./images/InTheBox_Bricks_Landscape.jpg)"
   ]
  },
  {
   "cell_type": "markdown",
   "metadata": {
    "slideshow": {
     "slide_type": "notes"
    }
   },
   "source": [
    "Technic parts, controller brick, motors, sensors, cables and one set of build instructions. \n",
    "\n",
    "It may not look like much but it's amazing what you can build with the 601 pieces you get out of the box. \n",
    "\n",
    "The other good news is that you can mix it up with any of your existing Technic parts to make even bigger creations.\n",
    "\n",
    "And if you want more there are sites which would 3D print your custom Technic parts or sites which sell classic Lego to Technic connectors. "
   ]
  },
  {
   "cell_type": "markdown",
   "metadata": {
    "slideshow": {
     "slide_type": "skip"
    }
   },
   "source": [
    "![me](./images/PartsCollage.jpg)"
   ]
  },
  {
   "cell_type": "markdown",
   "metadata": {
    "slideshow": {
     "slide_type": "subslide"
    }
   },
   "source": [
    "![me](./images/PartsWordcloud.png)"
   ]
  },
  {
   "cell_type": "markdown",
   "metadata": {
    "slideshow": {
     "slide_type": "notes"
    }
   },
   "source": [
    "All these parts actually have a name, so here they are in a word cloud based on total count per part. \n",
    "\n",
    "Then we went online and downloaded PDFs with more models to build. "
   ]
  },
  {
   "cell_type": "markdown",
   "metadata": {
    "slideshow": {
     "slide_type": "slide"
    }
   },
   "source": [
    "  |   |   |   |\n",
    "--- | --- | --- | ---\n",
    "![Product_BOBB3E_mainstage.png](./images/Product_BOBB3E_mainstage.png) | ![Product_EL3CTRIC_GUITAR_mainstage.png](./images/Product_EL3CTRIC_GUITAR_mainstage.png) | ![Product_EV3ERSTORM_mainstage.png](./images/Product_EV3ERSTORM_mainstage.png) | ![Product_GRIPP3R_mainstage.png](./images/Product_GRIPP3R_mainstage.png) \n",
    "![Product_PLOTT3R_mainstage.png](./images/Product_PLOTT3R_mainstage.png) | ![Product_R3PTAR_mainstage.png](./images/Product_R3PTAR_mainstage.png) | ![Product_RAC3R_mainstage.png](./images/Product_RAC3R_mainstage.png) | ![Product_ROBODOZ3R_mainstage.png](./images/Product_ROBODOZ3R_mainstage.png) \n",
    "![Product_SH3LL_GAME_mainstage.png](./images/Product_SH3LL_GAME_mainstage.png) | ![Product_SPIK3R_mainstage.png](./images/Product_SPIK3R_mainstage.png) | ![Product_TRACK3R_mainstage.png](./images/Product_TRACK3R_mainstage.png) | ![Product_TRIC3RA_mainstage.png](./images/Product_TRIC3RA_mainstage.png)"
   ]
  },
  {
   "cell_type": "markdown",
   "metadata": {
    "slideshow": {
     "slide_type": "notes"
    }
   },
   "source": [
    "These are some of the models you can find on the official web page. \n",
    "\n",
    "There are many others contributed by the community. \n",
    "\n",
    "The models are a bit more difficult than standard Lego. The instructions range from 50 to 300 steps and it can take sometimes 6-8 hours for my son to build a model and he is pretty good at this. \n",
    "\n",
    "The ingenuity in them is facinating, especially how the motors drive the contraptions. It's a somewhat different way of thinking compared to writing software, but after awhile you get used to it and start seeing the patterns. "
   ]
  },
  {
   "cell_type": "markdown",
   "metadata": {
    "slideshow": {
     "slide_type": "slide"
    }
   },
   "source": [
    "![me](./images/lego-overview.png)"
   ]
  },
  {
   "cell_type": "markdown",
   "metadata": {
    "slideshow": {
     "slide_type": "skip"
    }
   },
   "source": [
    "For our very first model we chose to build the EV3STORM which is a rolling, skating, talking, shooting robot. The kids called it Betty. \n",
    "\n",
    "Once we built Betty, we had to give her the gift of life by programming her. Officially to do this we had to download the Lego Mindstorms Porgammer iPad app, connect to the Brickman via Bluetooth, select the right program (or mission as they call it) and load it up. \n",
    "\n",
    "This shows the graphical programming language used to program Mindstorms. It's a LabVIEW dialect: you drag components from the toolbox to the canvas, connect and configure them, then save and upload. "
   ]
  },
  {
   "cell_type": "markdown",
   "metadata": {
    "slideshow": {
     "slide_type": "subslide"
    }
   },
   "source": [
    "![](./images/action-mediumMotor-largeMotor-moveSteering-moveTank-display-sound-brickStatusLight.PNG)\n",
    "![](./images/flowControl-start-wait-loop-switch-loopInterrupt.PNG)\n",
    "![](./images/sensor-brickButtons-colorSensor-infraredSensor-motorRotation-timer-touchSensor.PNG)\n",
    "![](./images/dataOps-variable-constant-arrayOp-logicOp-math-round-compare-range-text-random.PNG)\n",
    "![](./images/advanced-fileAccess-messaging-bluetoothConnection-keepAwake-rawSensorValue-unregulatedMotor-invertMotor-stopProgram-comment.PNG)"
   ]
  },
  {
   "cell_type": "markdown",
   "metadata": {
    "slideshow": {
     "slide_type": "notes"
    }
   },
   "source": [
    "These are the tools available. \n",
    "\n",
    "There are actions to control the motors, steering, display, sound and light.\n",
    "\n",
    "There are flow control constructs such as start, wait, loops, switch and interrupt. \n",
    "\n",
    "Of course you can also control the sensors. \n",
    "\n",
    "As well as perform data and logic operations such as round, random, compare, write text, assign variables, etc. \n",
    "\n",
    "Finally there are advanced operations for file access, messaging, bluetooth access, access raw sensor values, start, stop and comment. \n",
    "\n",
    "So, why are we talking about LabVIEW at a Python conference?\n",
    "\n",
    "There are two reasons for this. \n",
    "\n",
    "1. These same interfaces are available through Python. \n",
    "\n",
    "2. It's good to understand LabVIEW so that you can read these programs and translate them into Python. In fact the .ev3 project files are just zip files and if you unzip them you'll find all the sounds, images and even an XML file which stores the logic. \n"
   ]
  },
  {
   "cell_type": "markdown",
   "metadata": {
    "slideshow": {
     "slide_type": "skip"
    }
   },
   "source": [
    "## .EV3 files\n",
    "\n",
    "\n",
    "* Lego Mindstorms LabVIEW projects have a .ev3 extension.\n",
    "\n",
    "* .ev3 files can be unzipped with 7-zip to a folder.\n",
    "\n",
    "* Within the zip are:\n",
    "\n",
    "     * .x3a files\n",
    "\n",
    "     * .laz is also a .zip file which contains assets such as images\n",
    "\n",
    "     * .rgf\n",
    "\n",
    "     * .rsf \n",
    "\n",
    "     * .ev3p is an XML file which captures the program's logic\n",
    "\n",
    "     * .lvprojx is an XML file "
   ]
  },
  {
   "cell_type": "markdown",
   "metadata": {
    "slideshow": {
     "slide_type": "notes"
    }
   },
   "source": [
    "So how do we get started with Python?\n",
    "For this you need ev3dev: the Debian Linux-based OS which can run on Lego Mindstorms compatible platforms.  "
   ]
  },
  {
   "cell_type": "markdown",
   "metadata": {
    "slideshow": {
     "slide_type": "slide"
    }
   },
   "source": [
    "# Getting started with ev3dev\n",
    "\n",
    "1. Buy an micro SD card (<32GB)\n",
    "2. Buy a wireless adapter (e.g. Edimax N150 USB Nano)\n",
    "3. Download the latest ev3dev image file\n",
    "4. Flash the SD card with Etcher (or equivalent)\n",
    "5. Boot ev3dev \n",
    "6. Set up a network connection\n",
    "7. Connect to the EV3 via SSH (e.g. [Bitvise SSH Client](https://www.bitvise.com/ssh-client))\n",
    "7. Write some code [Python | JavaScript | Java | Go | C | C++ | Ruby | Perl]"
   ]
  },
  {
   "cell_type": "markdown",
   "metadata": {
    "slideshow": {
     "slide_type": "slide"
    }
   },
   "source": [
    "# How to run Python scripts on EV3\n",
    "\n",
    "* Via SSH\n",
    "    * Username: robot\n",
    "    * Password: maker\n",
    "* Via Brickman\n",
    "    * Files must start with the shebang: #!/usr/bin/env python3\n",
    "    * Need Unix-style line endings otherwise the script just exits\n",
    "        * Run [sed -i 's/\\r//g' file](http://python-ev3dev.readthedocs.io/en/latest/faq.html) to fix the line endings\n",
    "        * Alternatively, write a .sh file to call the script: `python3 file`\n",
    "* Via [RPyC](http://python-ev3dev.readthedocs.io/en/latest/rpyc.html) in Jupyter notebooks\n",
    "\n",
    "# How to stop Python scripts on EV3\n",
    "\n",
    "* If running from an SSH prompt press Ctrl + C \n",
    "* If running via Brickman press and hold the backspace button\n",
    "* Worst case: take the batteries out"
   ]
  },
  {
   "cell_type": "markdown",
   "metadata": {
    "slideshow": {
     "slide_type": "slide"
    }
   },
   "source": [
    "![](./images/Lego-Mindstorms-EV3-unveiled-at-CES-2013_7.jpg)"
   ]
  },
  {
   "cell_type": "markdown",
   "metadata": {
    "slideshow": {
     "slide_type": "notes"
    }
   },
   "source": [
    "So what can you do with Python? \n",
    "\n",
    "These are the things you can control. \n",
    "\n",
    "Let's look at them one at a time!"
   ]
  },
  {
   "cell_type": "markdown",
   "metadata": {
    "slideshow": {
     "slide_type": "slide"
    }
   },
   "source": [
    "# EV3 brick\n",
    "\n",
    "![](./images/InTheBox_45500_P_Brik_Left_Square.png)\n",
    "\n",
    "* LCD screen monochrome 178x128 pixels\n",
    "* Buttons (up, down, left, right, enter, backspace)\n",
    "* LEDs left and right with colors (red, green, amber, orange, yellow)\n",
    "* Speaker\n",
    "* 1 micro SD card slot\n",
    "* 1 USB port\n",
    "* 8 EV3 cable ports for motors and sensors"
   ]
  },
  {
   "cell_type": "code",
   "execution_count": 38,
   "metadata": {
    "slideshow": {
     "slide_type": "slide"
    }
   },
   "outputs": [
    {
     "name": "stdout",
     "output_type": "stream",
     "text": [
      "timed out\n",
      "<module 'ev3dev.ev3' from 'C:\\\\work\\\\pyconau2017\\\\ev3dev-lang-python\\\\ev3dev\\\\ev3.py'>\n"
     ]
    }
   ],
   "source": [
    "import sys\n",
    "import time\n",
    "import rpyc\n",
    "\n",
    "host = '192.168.178.40' #host name or IP address of the EV3\n",
    "\n",
    "try:\n",
    "    conn = rpyc.classic.connect(host) \n",
    "    ev3 = conn.modules['ev3dev.ev3'] #import ev3dev.ev3 remotely\n",
    "except:\n",
    "    print(sys.exc_info()[1])\n",
    "finally:\n",
    "    import ev3dev.ev3 as ev3 #RPyC failed so we must be running on the EV3\n",
    "    \n",
    "ev3.Sound.beep() #success!"
   ]
  },
  {
   "cell_type": "code",
   "execution_count": null,
   "metadata": {
    "collapsed": true,
    "slideshow": {
     "slide_type": "slide"
    }
   },
   "outputs": [],
   "source": [
    "#WORKING WITH SOUND:\n",
    "\n",
    "ev3.Sound.set_volume(100) #set volume to 100%\n",
    "\n",
    "ev3.Sound.beep().wait() #wait for the finish before continuing with the program\n",
    "\n",
    "ev3.Sound.tone(1000, 2000).wait() # play a single 1000Hz tone for 2 seconds\n",
    "\n",
    "#musical note to frequecy lookup: http://pages.mtu.edu/~suits/notefreqs.html\n",
    "G =(392, 500, 50) #( frequency in Hz, duration in ms, delay in ms)\n",
    "E = (329.63, 2000, 50)\n",
    "F = (349.23, 500, 50)\n",
    "D = (293.66, 2000, 50)\n",
    "ev3.Sound.tone([G, G, G, E, F, F, F, D]).wait() #Bethoven Symphony #5\n",
    "\n",
    "#use pydub to convert mp3 to wav\n",
    "ev3.Sound.play('sounds/r2d2.wav').wait() \n",
    "\n",
    "ev3.Sound.speak('Greetings from PyCon Australia!')"
   ]
  },
  {
   "cell_type": "code",
   "execution_count": 24,
   "metadata": {
    "slideshow": {
     "slide_type": "slide"
    }
   },
   "outputs": [
    {
     "data": {
      "text/plain": [
       "<subprocess.Popen at 0x1dae87f4848>"
      ]
     },
     "execution_count": 24,
     "metadata": {},
     "output_type": "execute_result"
    }
   ],
   "source": [
    "#WORKING WITH LEDs:\n",
    "\n",
    "#configure the settings for the left LEDs\n",
    "ev3.Leds.set(ev3.Leds.LEFT, brightness_pct=0.5, trigger='timer')\n",
    "ev3.Leds.set(ev3.Leds.LEFT, delay_on=3000, delay_off=500)\n",
    "\n",
    "#possible colors are RED, GREEN, AMBER, ORGANGE, YELLOW\n",
    "ev3.Leds.set_color(ev3.Leds.LEFT, ev3.Leds.RED)\n",
    "\n",
    "#set the right LEDs to green at 100% brightness\n",
    "ev3.Leds.set_color(ev3.Leds.RIGHT, ev3.Leds.GREEN, pct=100) \n",
    "    \n",
    "ev3.Leds.all_off()"
   ]
  },
  {
   "cell_type": "code",
   "execution_count": null,
   "metadata": {
    "collapsed": true,
    "slideshow": {
     "slide_type": "slide"
    }
   },
   "outputs": [],
   "source": [
    "#WORKING WITH BUTTONS:\n",
    "\n",
    "btn = ev3.Button()\n",
    "\n",
    "say = lambda sentence: ev3.Sound.speak(sentence)\n",
    "\n",
    "def left(state):\n",
    "    say('Left button {0}'.format('pressed' if state else 'released'))\n",
    "def right(state):  \n",
    "    say('Right button {0}'.format('pressed' if state else 'released'))\n",
    "def up(state):\n",
    "    say('Up button {0}'.format('pressed' if state else 'released'))\n",
    "def down(state):\n",
    "    say('Down button {0}'.format('pressed' if state else 'released'))\n",
    "def enter(state):\n",
    "    say('Enter button {0}'.format('pressed' if state else 'released')) \n",
    "def backspace(state):\n",
    "    say('Backspace button {0}'.format('pressed' if state else 'released'))\n",
    "    \n",
    "btn.on_left = left\n",
    "btn.on_right = right\n",
    "btn.on_up = up\n",
    "btn.on_down = down\n",
    "btn.on_enter = enter\n",
    "btn.on_backspace = backspace\n",
    "\n",
    "while True:\n",
    "    #Check for currenly pressed buttons. \n",
    "    #If the new state differs from the old state, \n",
    "    #call the appropriate button event handlers.\n",
    "    btn.process() \n",
    "    \n",
    "    #exit if both the left and right buttons are pressed simultaneously\n",
    "    if btn.check_buttons(buttons=['left','right']):\n",
    "        break\n",
    "    \n",
    "    time.sleep(0.1) "
   ]
  },
  {
   "cell_type": "code",
   "execution_count": null,
   "metadata": {
    "collapsed": true,
    "slideshow": {
     "slide_type": "slide"
    }
   },
   "outputs": [],
   "source": [
    "#WORKING WITH SCREEN:\n",
    "\n",
    "#run change foreground virtual terminal (chvt) command to get exclusive use of the screen\n",
    "!sudo chvt 6\n",
    "!maker\n",
    "\n",
    "from PIL import Image, ImageDraw\n",
    "\n",
    "screen = ev3.Screen()\n",
    "screen.clear()\n",
    "\n",
    "#(0, 0) is top left and (177, 127) is bottom right coordinates\n",
    "screen.draw.text((60,40), 'Hello PyCon Australia!', font=fonts.load('ncenB24'))\n",
    "screen.update()\n",
    "\n",
    "time.sleep(5)\n",
    "\n",
    "logo = Image.open('images/tree_178x128.bmp')\n",
    "screen.image.paste(logo, (0,0))\n",
    "screen.update()\n",
    "\n",
    "time.sleep(5)\n",
    "\n",
    "width, height = screen.shape\n",
    "#screen.draw returns PIL.ImageDraw instance\n",
    "screen.draw.line((0, 0, width, height), fill=128) #diagonal from top left to bottom right\n",
    "screen.draw.line((0, height, width, 0), fill=128) #diagonal from bottom left to top right\n",
    "screen.update()\n",
    "\n",
    "time.sleep(5)\n",
    "\n",
    "#release screen\n",
    "!sudo chvt 1\n",
    "!maker"
   ]
  },
  {
   "cell_type": "markdown",
   "metadata": {
    "slideshow": {
     "slide_type": "slide"
    }
   },
   "source": [
    "# Touch sensor\n",
    "\n",
    "![](./images/InTheBox_45507_Touch_Sensor_Square.png)"
   ]
  },
  {
   "cell_type": "code",
   "execution_count": 41,
   "metadata": {
    "slideshow": {
     "slide_type": "slide"
    }
   },
   "outputs": [
    {
     "ename": "AssertionError",
     "evalue": "",
     "output_type": "error",
     "traceback": [
      "\u001b[1;31m---------------------------------------------------------------------------\u001b[0m",
      "\u001b[1;31mAssertionError\u001b[0m                            Traceback (most recent call last)",
      "\u001b[1;32m<ipython-input-41-435d5c5766e0>\u001b[0m in \u001b[0;36m<module>\u001b[1;34m()\u001b[0m\n\u001b[0;32m      2\u001b[0m \u001b[1;33m\u001b[0m\u001b[0m\n\u001b[0;32m      3\u001b[0m \u001b[0mts\u001b[0m \u001b[1;33m=\u001b[0m \u001b[0mev3\u001b[0m\u001b[1;33m.\u001b[0m\u001b[0mTouchSensor\u001b[0m\u001b[1;33m(\u001b[0m\u001b[1;33m)\u001b[0m\u001b[1;33m\u001b[0m\u001b[0m\n\u001b[1;32m----> 4\u001b[1;33m \u001b[1;32massert\u001b[0m \u001b[0mts\u001b[0m\u001b[1;33m.\u001b[0m\u001b[0mconnected\u001b[0m\u001b[1;33m\u001b[0m\u001b[0m\n\u001b[0m\u001b[0;32m      5\u001b[0m \u001b[1;33m\u001b[0m\u001b[0m\n\u001b[0;32m      6\u001b[0m \u001b[1;32mwhile\u001b[0m \u001b[1;32mTrue\u001b[0m\u001b[1;33m:\u001b[0m\u001b[1;33m\u001b[0m\u001b[0m\n",
      "\u001b[1;31mAssertionError\u001b[0m: "
     ]
    }
   ],
   "source": [
    "#WORKING WITH TOUCH SENSOR:\n",
    "\n",
    "ts = ev3.TouchSensor()\n",
    "assert ts.connected\n",
    "\n",
    "while True:\n",
    "    if ts.is_pressed:\n",
    "        break\n",
    "    time.sleep(0.5)"
   ]
  },
  {
   "cell_type": "markdown",
   "metadata": {
    "slideshow": {
     "slide_type": "slide"
    }
   },
   "source": [
    "# Color sensor\n",
    "\n",
    "![](./images/InTheBox_45506_Colour_Sensor_Square.png)"
   ]
  },
  {
   "cell_type": "code",
   "execution_count": 25,
   "metadata": {
    "slideshow": {
     "slide_type": "slide"
    }
   },
   "outputs": [
    {
     "data": {
      "text/plain": [
       "<subprocess.Popen at 0x1dae8807548>"
      ]
     },
     "execution_count": 25,
     "metadata": {},
     "output_type": "execute_result"
    }
   ],
   "source": [
    "#WORKING TO COLOR SENSOR:\n",
    "\n",
    "cl = ev3.ColorSensor()\n",
    "ts = ev3.TouchSensor()\n",
    "cl.mode = 'COL-COLOR' #returns an integer [0,7]\n",
    "#cl.mode='COL-REFLECT' #measures reflected light intensity and returns an integer [0,100]\n",
    "#cl.mode='COL-AMBIENT' #measures ambient light intensity and returns an integer [0,100]\n",
    "#cl.mode='RGB-RAW' #returns RGB tuple ([0,1020], [0,1020], [0,1020])\n",
    "\n",
    "colors = ('unknown black blue green yellow red white brown'.split())\n",
    "\n",
    "while not ts.value():\n",
    "    ev3.Sound.speak(colors[cl.value()]).wait()\n",
    "    time.sleep(1)"
   ]
  },
  {
   "cell_type": "markdown",
   "metadata": {
    "slideshow": {
     "slide_type": "slide"
    }
   },
   "source": [
    "# Infrared sensor\n",
    "\n",
    "![](./images/InTheBox_45509_IR_Sensor_Square.png)"
   ]
  },
  {
   "cell_type": "code",
   "execution_count": null,
   "metadata": {
    "collapsed": true,
    "slideshow": {
     "slide_type": "slide"
    }
   },
   "outputs": [],
   "source": [
    "#WORKING WITH INFRARED SENSOR:\n",
    "\n",
    "ir = ev3.InfraredSensor() \n",
    "ir.mode = 'IR-PROX'\n",
    "#A measurement of the distance between the sensor and the remote, as a percentage. \n",
    "#100% is approximately 70cm\n",
    "\n",
    "mB = ev3.LargeMotor('outB')\n",
    "mC = ev3.LargeMotor('outC')\n",
    "\n",
    "mB.run_forever(speed_sp=360)\n",
    "mC.run_forever(speed_sp=360)\n",
    "\n",
    "while True:\n",
    "    if ir.proximity < 10: #or ir.value()\n",
    "        mB.stop(stop_action='brake')\n",
    "        mC.stop(stop_action='brake')\n",
    "        break"
   ]
  },
  {
   "cell_type": "markdown",
   "metadata": {
    "slideshow": {
     "slide_type": "slide"
    }
   },
   "source": [
    "## Resources\n",
    "\n",
    "* [Lego Mindstorms: official site](https://www.lego.com/en-us/mindstorms)\n",
    "* [ev3dev official site](http://www.ev3dev.org)\n",
    "* [Python ev3dev repository](https://github.com/rhempel/ev3dev-lang-python)\n",
    "* [ev3python: unoffical documentation](http://ev3python.com)\n",
    "* [This presentation: https://github.com/sshopov/pyconau2017](https://github.com/sshopov/pyconau2017)\n"
   ]
  },
  {
   "cell_type": "markdown",
   "metadata": {
    "slideshow": {
     "slide_type": "slide"
    }
   },
   "source": [
    "# Thanks!\n",
    "\n",
    "![Innodev Logo](./images/innodev_logo_stacked.jpg)"
   ]
  }
 ],
 "metadata": {
  "celltoolbar": "Slideshow",
  "kernelspec": {
   "display_name": "Python 3",
   "language": "python",
   "name": "python3"
  },
  "language_info": {
   "codemirror_mode": {
    "name": "ipython",
    "version": 3
   },
   "file_extension": ".py",
   "mimetype": "text/x-python",
   "name": "python",
   "nbconvert_exporter": "python",
   "pygments_lexer": "ipython3",
   "version": "3.6.1"
  }
 },
 "nbformat": 4,
 "nbformat_minor": 2
}
