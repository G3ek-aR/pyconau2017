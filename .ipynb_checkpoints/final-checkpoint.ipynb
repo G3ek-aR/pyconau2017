{
 "cells": [
  {
   "cell_type": "markdown",
   "metadata": {
    "slideshow": {
     "slide_type": "slide"
    }
   },
   "source": [
    "# Programming Lego Mindstorms with Python\n",
    "\n",
    "by\n",
    "\n",
    "## Stoyan Shopov (@hrastche)\n",
    "\n",
    "#  \n",
    "\n",
    "from\n",
    "\n",
    "\n",
    "\n",
    "![Innodev Logo](./images/innodev_logo_landscape.jpg)"
   ]
  },
  {
   "cell_type": "markdown",
   "metadata": {
    "slideshow": {
     "slide_type": "notes"
    }
   },
   "source": [
    "Welcome to Progamming Lego Mindstorms robots with Python.\n",
    "\n",
    "My name is Stoyan and I am a solution architect from Innodev. "
   ]
  },
  {
   "cell_type": "markdown",
   "metadata": {
    "slideshow": {
     "slide_type": "slide"
    }
   },
   "source": [
    "![me](./images/me-ev3-cropped.png)"
   ]
  },
  {
   "cell_type": "markdown",
   "metadata": {
    "slideshow": {
     "slide_type": "notes"
    }
   },
   "source": [
    "This is a story about how dreams come true. Ever since I remember I've wanted a robot of my own. I don't know how this idea got planted but I used to make robots out of toilet paper rolls, cigarette boxes I found on the street or yogurt containers. When I was a bit older I even joined the model maker club. \n",
    "\n",
    "Then life happened, the dream faded and it wasn't until my 7-year old son Hugo started showing interest in Lego that I thought it was time to revisit the dream. \n",
    "\n",
    "So I did some research on robotics kits. I was looking for: \n",
    "* an all in one kit, meaning I don't have to buy anything else to get going; \n",
    "* something open ended, meaning that there is room for imagination to build many models\n",
    "* a vibrant community with helpful resources \n",
    "* and of course it has to be programmable in Python. \n",
    "\n",
    "So early this year I got myself an expensive birthday present on behalf of the family and it was Lego Mindstorms. \n",
    "\n",
    "At this stage I would like to make the disclaimer that I am not sponsored by Lego in any way and check by a show of hands, who is already living the dream and playing with Mindstorms?\n",
    "Great! "
   ]
  },
  {
   "cell_type": "markdown",
   "metadata": {
    "slideshow": {
     "slide_type": "slide"
    }
   },
   "source": [
    "![me](./images/ev3.jpg)"
   ]
  },
  {
   "cell_type": "markdown",
   "metadata": {
    "slideshow": {
     "slide_type": "notes"
    }
   },
   "source": [
    "So I acted surprised when I unwrapped my present. We opened the box and this is what we found:"
   ]
  },
  {
   "cell_type": "markdown",
   "metadata": {
    "slideshow": {
     "slide_type": "slide"
    }
   },
   "source": [
    "![what's in the box](./images/InTheBox_Bricks_Landscape.jpg)"
   ]
  },
  {
   "cell_type": "markdown",
   "metadata": {
    "slideshow": {
     "slide_type": "notes"
    }
   },
   "source": [
    "Technic parts, controller brick, motors, sensors, cables and one set of build instructions. \n",
    "\n",
    "It may not look like much but it's amazing what you can build with the 601 pieces you get out of the box. \n",
    "\n",
    "The other good news is that you can mix it up with any of your existing Technic parts to make even bigger creations.\n",
    "\n",
    "And if you want more there are sites which would 3D print your custom Technic parts or sites which sell classic Lego to Technic connectors. "
   ]
  },
  {
   "cell_type": "markdown",
   "metadata": {
    "slideshow": {
     "slide_type": "skip"
    }
   },
   "source": [
    "![me](./images/PartsCollage.jpg)"
   ]
  },
  {
   "cell_type": "markdown",
   "metadata": {
    "slideshow": {
     "slide_type": "subslide"
    }
   },
   "source": [
    "![me](./images/PartsWordcloud.png)"
   ]
  },
  {
   "cell_type": "markdown",
   "metadata": {
    "slideshow": {
     "slide_type": "notes"
    }
   },
   "source": [
    "All these parts actually have a name, so here they are in a word cloud based on total count per part. \n",
    "\n",
    "Then we went online and downloaded PDFs with more models to build. "
   ]
  },
  {
   "cell_type": "markdown",
   "metadata": {
    "slideshow": {
     "slide_type": "slide"
    }
   },
   "source": [
    "  |   |   |   |\n",
    "--- | --- | --- | ---\n",
    "![Product_EV3ERSTORM_mainstage.png](./images/Product_EV3ERSTORM_mainstage.png) | ![Product_EL3CTRIC_GUITAR_mainstage.png](./images/Product_EL3CTRIC_GUITAR_mainstage.png) | ![Product_BOBB3E_mainstage.png](./images/Product_BOBB3E_mainstage.png) | ![Product_GRIPP3R_mainstage.png](./images/Product_GRIPP3R_mainstage.png) \n",
    "![Product_PLOTT3R_mainstage.png](./images/Product_PLOTT3R_mainstage.png) | ![Product_R3PTAR_mainstage.png](./images/Product_R3PTAR_mainstage.png) | ![Product_RAC3R_mainstage.png](./images/Product_RAC3R_mainstage.png) | ![Product_ROBODOZ3R_mainstage.png](./images/Product_ROBODOZ3R_mainstage.png) \n",
    "![Product_SH3LL_GAME_mainstage.png](./images/Product_SH3LL_GAME_mainstage.png) | ![Product_SPIK3R_mainstage.png](./images/Product_SPIK3R_mainstage.png) | ![Product_TRACK3R_mainstage.png](./images/Product_TRACK3R_mainstage.png) | ![Product_TRIC3RA_mainstage.png](./images/Product_TRIC3RA_mainstage.png)"
   ]
  },
  {
   "cell_type": "markdown",
   "metadata": {
    "slideshow": {
     "slide_type": "notes"
    }
   },
   "source": [
    "These are some of the models you can find on the official web page. \n",
    "\n",
    "There are many others contributed by the community. \n",
    "\n",
    "The models are a bit more difficult than standard Lego. The instructions range from 50 to 300 steps and it can take sometimes 6-8 hours for my son to build a model and he is pretty good at this. \n",
    "\n",
    "The ingenuity in them is facinating, especially how the motors drive the contraptions. It's a somewhat different way of thinking compared to writing software, but after awhile you get used to it and start seeing the patterns. \n",
    "\n",
    "For our very first model we chose to build the EV3STORM which is a rolling, skating, talking, shooting robot. The one on the top left. The kids called it Betty. "
   ]
  },
  {
   "cell_type": "markdown",
   "metadata": {
    "slideshow": {
     "slide_type": "slide"
    }
   },
   "source": [
    "![me](./images/lego-overview.png)"
   ]
  },
  {
   "cell_type": "markdown",
   "metadata": {
    "slideshow": {
     "slide_type": "skip"
    }
   },
   "source": [
    "\n",
    "Once we built Betty, we had to give her the gift of life by programming her. Officially to do this we had to download the Lego Mindstorms Porgammer iPad app, connect to the EV3 brick via Bluetooth, select the right program (or mission as they call it) and load it up. \n",
    "\n",
    "This shows the graphical programming language used to program Mindstorms. It's a LabVIEW dialect: you drag components from the toolbox to the canvas, connect and configure them, then save and upload. "
   ]
  },
  {
   "cell_type": "markdown",
   "metadata": {
    "slideshow": {
     "slide_type": "subslide"
    }
   },
   "source": [
    "![](./images/action-mediumMotor-largeMotor-moveSteering-moveTank-display-sound-brickStatusLight.PNG)\n",
    "![](./images/flowControl-start-wait-loop-switch-loopInterrupt.PNG)\n",
    "![](./images/sensor-brickButtons-colorSensor-infraredSensor-motorRotation-timer-touchSensor.PNG)\n",
    "![](./images/dataOps-variable-constant-arrayOp-logicOp-math-round-compare-range-text-random.PNG)\n",
    "![](./images/advanced-fileAccess-messaging-bluetoothConnection-keepAwake-rawSensorValue-unregulatedMotor-invertMotor-stopProgram-comment.PNG)"
   ]
  },
  {
   "cell_type": "markdown",
   "metadata": {
    "slideshow": {
     "slide_type": "notes"
    }
   },
   "source": [
    "These are the tools available. \n",
    "\n",
    "There are actions to control the motors, steering, display, sound and light.\n",
    "\n",
    "There are flow control constructs such as start, wait, loops, switch and interrupt. \n",
    "\n",
    "Of course you can also control the sensors. \n",
    "\n",
    "As well as perform data and logic operations such as round, random, compare, write text, assign variables, etc. \n",
    "\n",
    "Finally there are advanced operations for file access, messaging, bluetooth access, access raw sensor values, start, stop and comment. \n",
    "\n",
    "So, why are we talking about LabVIEW at a Python conference?\n",
    "\n",
    "There are two reasons for this. \n",
    "\n",
    "1. These same interfaces are available through Python. \n",
    "\n",
    "2. It's good to understand LabVIEW so that you can read these programs and translate them into Python. In fact the .ev3 project files are just zip files and if you unzip them you'll find all the sounds, images and even an XML file which stores the logic. \n"
   ]
  },
  {
   "cell_type": "markdown",
   "metadata": {
    "slideshow": {
     "slide_type": "skip"
    }
   },
   "source": [
    "## .EV3 files\n",
    "\n",
    "\n",
    "* Lego Mindstorms LabVIEW projects have a .ev3 extension.\n",
    "\n",
    "* .ev3 files can be unzipped with 7-zip to a folder.\n",
    "\n",
    "* Within the zip are:\n",
    "\n",
    "     * .x3a files\n",
    "\n",
    "     * .laz is also a .zip file which contains assets such as images\n",
    "\n",
    "     * .rgf\n",
    "\n",
    "     * .rsf \n",
    "\n",
    "     * .ev3p is an XML file which captures the program's logic\n",
    "\n",
    "     * .lvprojx is an XML file "
   ]
  },
  {
   "cell_type": "markdown",
   "metadata": {
    "slideshow": {
     "slide_type": "notes"
    }
   },
   "source": [
    "So how do we get started with Python?\n",
    "For this you need ev3dev: the Debian Linux-based OS which can run on Lego Mindstorms compatible platforms.  \n",
    "The EV3 brick runs Linux and has micro SD card slot for dual boot. "
   ]
  },
  {
   "cell_type": "markdown",
   "metadata": {
    "slideshow": {
     "slide_type": "slide"
    }
   },
   "source": [
    "# Getting started with ev3dev\n",
    "\n",
    "1. Buy an micro SD card (<32GB)\n",
    "2. Buy a wireless adapter (e.g. Edimax N150 USB Nano)\n",
    "3. Download the latest [ev3dev](http://www.ev3dev.org/docs/getting-started/) image file\n",
    "4. Flash the SD card with [Etcher](https://etcher.io/) (or equivalent)\n",
    "5. Boot ev3dev \n",
    "6. Set up a network connection\n",
    "7. Connect to the EV3 via SSH (e.g. [Bitvise SSH Client](https://www.bitvise.com/ssh-client) or [Pythonista with StaSh](https://github.com/Klabbedi/ev3))\n",
    "7. Write some code [Python | JavaScript | Java | Go | C | C++ | Ruby | Perl]"
   ]
  },
  {
   "cell_type": "markdown",
   "metadata": {
    "slideshow": {
     "slide_type": "slide"
    }
   },
   "source": [
    "# How to run Python scripts on EV3\n",
    "\n",
    "* Via SSH\n",
    "    * Username: robot\n",
    "    * Password: maker\n",
    "* Via Brickman\n",
    "    * Files must start with the shebang: #!/usr/bin/env python3\n",
    "    * chmod +x file to make it executable\n",
    "    * Need Unix-style line endings otherwise the script just exits\n",
    "        * Run [sed -i 's/\\r//g' file](http://python-ev3dev.readthedocs.io/en/latest/faq.html) to fix the line endings\n",
    "        * Alternatively, write a .sh file to call the script: `python3 file`\n",
    "* Via [RPyC](http://python-ev3dev.readthedocs.io/en/latest/rpyc.html) in Jupyter notebooks"
   ]
  },
  {
   "cell_type": "markdown",
   "metadata": {
    "slideshow": {
     "slide_type": "slide"
    }
   },
   "source": [
    "# How to stop Python scripts on EV3\n",
    "\n",
    "* If running from an SSH prompt press Ctrl + C \n",
    "* If running via Brickman press and hold the backspace button\n",
    "* Worst case: take the batteries out"
   ]
  },
  {
   "cell_type": "markdown",
   "metadata": {
    "slideshow": {
     "slide_type": "slide"
    }
   },
   "source": [
    "![](./images/Lego-Mindstorms-EV3-unveiled-at-CES-2013_7.jpg)"
   ]
  },
  {
   "cell_type": "markdown",
   "metadata": {
    "slideshow": {
     "slide_type": "notes"
    }
   },
   "source": [
    "So what can you do with Python? \n",
    "\n",
    "These are the things you can control. \n",
    "\n",
    "Let's look at them one at a time!"
   ]
  },
  {
   "cell_type": "markdown",
   "metadata": {
    "slideshow": {
     "slide_type": "slide"
    }
   },
   "source": [
    "# EV3 brick\n",
    "\n",
    "![](./images/InTheBox_45500_P_Brik_Left_Square.png)\n",
    "\n",
    "  |   |\n",
    ":--- | :--- | :--- \n",
    "LCD screen monochrome 178x128 pixels | Buttons (up, down, left, right, enter, backspace) |\n",
    "LEDs left and right with colors (red, green, amber, orange, yellow) |  Speaker |\n",
    "1 micro SD card slot | 1 USB port |\n",
    "8 EV3 cable ports for motors and sensors |   |"
   ]
  },
  {
   "cell_type": "code",
   "execution_count": null,
   "metadata": {
    "collapsed": true,
    "slideshow": {
     "slide_type": "slide"
    }
   },
   "outputs": [],
   "source": [
    "import sys\n",
    "import time\n",
    "import rpyc\n",
    "\n",
    "host = '192.168.198.70' #host name or IP address of the EV3\n",
    "\n",
    "try:\n",
    "    conn = rpyc.classic.connect(host) \n",
    "    ev3 = conn.modules['ev3dev.ev3'] #import ev3dev.ev3 remotely\n",
    "except:\n",
    "    print(sys.exc_info()[1])\n",
    "finally:\n",
    "    from ev3dev import ev3 #RPyC failed so we must be running on the EV3\n",
    "    \n",
    "ev3.Sound.beep() #success!"
   ]
  },
  {
   "cell_type": "code",
   "execution_count": null,
   "metadata": {
    "slideshow": {
     "slide_type": "slide"
    }
   },
   "outputs": [],
   "source": [
    "#WORKING WITH SOUND:\n",
    "\n",
    "ev3.Sound.set_volume(100) #set volume to 100%\n",
    "\n",
    "ev3.Sound.beep().wait() #wait for the finish before continuing with the program\n",
    "\n",
    "ev3.Sound.tone(1000, 2000).wait() # play a single 1000Hz tone for 2 seconds\n",
    "\n",
    "#musical note to frequecy lookup: http://pages.mtu.edu/~suits/notefreqs.html\n",
    "G =(392, 500, 50) #( frequency in Hz, duration in ms, delay in ms)\n",
    "E = (329.63, 2000, 50)\n",
    "F = (349.23, 500, 50)\n",
    "D = (293.66, 2000, 50)\n",
    "ev3.Sound.tone([G, G, G, E, F, F, F, D]).wait() #Bethoven Symphony #5\n",
    "\n",
    "ev3.Sound.play_song((\n",
    "    ('G4', 'e3'), ('G4', 'e3'), ('G4', 'e3'), ('E4', 'h'),\n",
    "    ('F4', 'e3'), ('F4', 'e3'), ('F4', 'e3'), ('D4', 'h')))\n",
    "\n",
    "#use pydub to convert mp3 to wav\n",
    "ev3.Sound.play('sounds/r2d2.wav').wait() \n",
    "\n",
    "ev3.Sound.speak(\"Luke, I am your father\")"
   ]
  },
  {
   "cell_type": "code",
   "execution_count": null,
   "metadata": {
    "slideshow": {
     "slide_type": "subslide"
    }
   },
   "outputs": [],
   "source": [
    "# A long time ago in a galaxy far, far away\n",
    "ev3.Sound.play_song((\n",
    "    ('D4', 'e3'),      # intro anacrouse\n",
    "    ('D4', 'e3'),\n",
    "    ('D4', 'e3'),\n",
    "    ('G4', 'h'),       # meas 1\n",
    "    ('D5', 'h'),\n",
    "    ('C5', 'e3'),      # meas 2\n",
    "    ('B4', 'e3'),\n",
    "    ('A4', 'e3'),\n",
    "    ('G5', 'h'),\n",
    "    ('D5', 'q'),\n",
    "    ('C5', 'e3'),      # meas 3\n",
    "    ('B4', 'e3'),\n",
    "    ('A4', 'e3'),\n",
    "    ('G5', 'h'),\n",
    "    ('D5', 'q'),\n",
    "    ('C5', 'e3'),      # meas 4\n",
    "    ('B4', 'e3'),\n",
    "    ('C5', 'e3'),\n",
    "    ('A4', 'h.')\n",
    "))"
   ]
  },
  {
   "cell_type": "code",
   "execution_count": null,
   "metadata": {
    "collapsed": true,
    "slideshow": {
     "slide_type": "slide"
    }
   },
   "outputs": [],
   "source": [
    "#WORKING WITH LEDs:\n",
    "\n",
    "#configure the settings for the left LEDs\n",
    "ev3.Leds.set(ev3.Leds.LEFT, brightness_pct=0.5, trigger='timer') #check ev3.Leds.triggers for options\n",
    "ev3.Leds.set(ev3.Leds.LEFT, delay_on=3000, delay_off=500)\n",
    "\n",
    "#possible colors are RED, GREEN, AMBER, ORGANGE, YELLOW\n",
    "ev3.Leds.set_color(ev3.Leds.LEFT, ev3.Leds.RED)\n",
    "\n",
    "#set the right LEDs to green at 100% brightness\n",
    "ev3.Leds.set_color(ev3.Leds.RIGHT, ev3.Leds.GREEN, pct=100) \n",
    "    \n",
    "ev3.Leds.all_off()"
   ]
  },
  {
   "cell_type": "code",
   "execution_count": null,
   "metadata": {
    "slideshow": {
     "slide_type": "slide"
    }
   },
   "outputs": [],
   "source": [
    "#WORKING WITH BUTTONS:\n",
    "\n",
    "btn = ev3.Button()\n",
    "\n",
    "say = lambda sentence: ev3.Sound.speak(sentence)\n",
    "\n",
    "def left(state):\n",
    "    say('Left button {0}'.format('pressed' if state else 'released'))\n",
    "    \n",
    "def right(state):\n",
    "    say('Right button {0}'.format('pressed' if state else 'released'))\n",
    "    \n",
    "def up(state):\n",
    "    say('Up button {0}'.format('pressed' if state else 'released'))\n",
    "    \n",
    "def down(state):\n",
    "    say('Down button {0}'.format('pressed' if state else 'released'))\n",
    "    \n",
    "def enter(state):\n",
    "    say('Enter button {0}'.format('pressed' if state else 'released'))\n",
    "    \n",
    "def backspace(state):\n",
    "    say('Backspace button {0}'.format('pressed' if state else 'released'))"
   ]
  },
  {
   "cell_type": "code",
   "execution_count": null,
   "metadata": {
    "slideshow": {
     "slide_type": "slide"
    }
   },
   "outputs": [],
   "source": [
    "#WORKING WITH BUTTONS (continued): \n",
    "\n",
    "btn.on_left = left\n",
    "btn.on_right = right\n",
    "btn.on_up = up\n",
    "btn.on_down = down\n",
    "btn.on_enter = enter\n",
    "btn.on_backspace = backspace\n",
    "\n",
    "while True:\n",
    "    #Check for currenly pressed buttons. \n",
    "    #If the new state differs from the old state, \n",
    "    #call the appropriate button event handlers.\n",
    "    btn.process() \n",
    "    \n",
    "    #exit if both the left and right buttons are pressed simultaneously\n",
    "    if btn.check_buttons(buttons=['left','right']):\n",
    "        break\n",
    "    time.sleep(0.1) "
   ]
  },
  {
   "cell_type": "code",
   "execution_count": null,
   "metadata": {
    "scrolled": true,
    "slideshow": {
     "slide_type": "slide"
    }
   },
   "outputs": [],
   "source": [
    "#WORKING WITH SCREEN:\n",
    "\n",
    "#run change foreground virtual terminal (chvt) command to get exclusive use of the screen\n",
    "!sudo chvt 6\n",
    "\n",
    "from PIL import Image, ImageDraw, ImageFont\n",
    "\n",
    "screen = ev3.Screen()\n",
    "screen.clear()\n",
    "\n",
    "#(0, 0) is top left and (177, 127) is bottom right coordinates\n",
    "screen.draw.text((60,40), 'Help me Obi Wan Kenobi!', font=ImageFont.load('ncenB24'))\n",
    "screen.update()\n",
    "\n",
    "time.sleep(5)\n",
    "\n",
    "logo = Image.open('/home/robot/images/tree.bmp')\n",
    "screen.image.paste(logo, (0,0))\n",
    "screen.update()\n",
    "\n",
    "time.sleep(5)\n"
   ]
  },
  {
   "cell_type": "code",
   "execution_count": null,
   "metadata": {
    "slideshow": {
     "slide_type": "slide"
    }
   },
   "outputs": [],
   "source": [
    "#WORKING WITH SCREEN (continued):\n",
    "\n",
    "screen.clear()\n",
    "\n",
    "width, height = screen.shape\n",
    "#screen.draw returns PIL.ImageDraw instance\n",
    "screen.draw.line((0, 0, width, height), fill='black') #diagonal from top left to bottom right\n",
    "screen.draw.line((0, height, width, 0), fill='black') #diagonal from bottom left to top right\n",
    "screen.update()\n",
    "\n",
    "time.sleep(5)\n",
    "\n",
    "screen.draw.rectangle((0, 0, 177, 127), fill='black')\n",
    "screen.update()\n",
    "\n",
    "time.sleep(5)\n",
    "\n",
    "#there are also: arc, ellipse, pieslice, point, polygon, ... all the PIL/Pillow goodness\n",
    "\n",
    "#release screen\n",
    "!sudo chvt 1"
   ]
  },
  {
   "cell_type": "markdown",
   "metadata": {
    "slideshow": {
     "slide_type": "slide"
    }
   },
   "source": [
    "# Touch sensor\n",
    "\n",
    "![](./images/InTheBox_45507_Touch_Sensor_Square.png)"
   ]
  },
  {
   "cell_type": "code",
   "execution_count": null,
   "metadata": {
    "collapsed": true,
    "slideshow": {
     "slide_type": "slide"
    }
   },
   "outputs": [],
   "source": [
    "#WORKING WITH TOUCH SENSOR:\n",
    "\n",
    "ts = ev3.TouchSensor()\n",
    "assert ts.connected\n",
    "\n",
    "while not ts.is_pressed:\n",
    "    time.sleep(0.5)"
   ]
  },
  {
   "cell_type": "markdown",
   "metadata": {
    "slideshow": {
     "slide_type": "slide"
    }
   },
   "source": [
    "# Color sensor\n",
    "\n",
    "![](./images/InTheBox_45506_Colour_Sensor_Square.png)"
   ]
  },
  {
   "cell_type": "code",
   "execution_count": null,
   "metadata": {
    "collapsed": true,
    "slideshow": {
     "slide_type": "slide"
    }
   },
   "outputs": [],
   "source": [
    "#WORKING TO COLOR SENSOR:\n",
    "\n",
    "ts = ev3.TouchSensor()\n",
    "\n",
    "cl = ev3.ColorSensor()\n",
    "cl.mode = 'COL-COLOR' #returns an integer [0,7]\n",
    "#cl.mode='COL-REFLECT' #measures reflected light intensity and returns an integer [0,100]\n",
    "#cl.mode='COL-AMBIENT' #measures ambient light intensity and returns an integer [0,100]\n",
    "#cl.mode='RGB-RAW' #returns RGB tuple ([0,1020], [0,1020], [0,1020])\n",
    "\n",
    "colors = ('unknown black blue green yellow red white brown'.split())\n",
    "\n",
    "while not ts.value():\n",
    "    ev3.Sound.speak(colors[cl.value()]).wait()\n",
    "    time.sleep(1)"
   ]
  },
  {
   "cell_type": "markdown",
   "metadata": {
    "slideshow": {
     "slide_type": "slide"
    }
   },
   "source": [
    "# Infrared sensor\n",
    "\n",
    "![](./images/InTheBox_45509_IR_Sensor_Square.png)"
   ]
  },
  {
   "cell_type": "code",
   "execution_count": null,
   "metadata": {
    "slideshow": {
     "slide_type": "slide"
    }
   },
   "outputs": [],
   "source": [
    "#WORKING WITH INFRARED SENSOR:\n",
    "\n",
    "ir = ev3.InfraredSensor()\n",
    "ir.mode = 'IR-PROX'\n",
    "#A measurement of the distance between the sensor and the remote, as a percentage. \n",
    "#100% is approximately 70cm\n",
    "\n",
    "lm = ev3.LargeMotor('outB')\n",
    "rm = ev3.LargeMotor('outC')\n",
    "\n",
    "lm.run_forever(speed_sp=360)\n",
    "rm.run_forever(speed_sp=360)\n",
    "\n",
    "while True:\n",
    "    if ir.proximity < 10: #or ir.value()\n",
    "        lm.stop(stop_action='brake')\n",
    "        rm.stop(stop_action='brake')\n",
    "        break\n",
    "    time.sleep(0.1)"
   ]
  },
  {
   "cell_type": "markdown",
   "metadata": {
    "slideshow": {
     "slide_type": "slide"
    }
   },
   "source": [
    "# Remote control\n",
    "\n",
    "![](./images/InTheBox_45508_IR_Beacon_Square.png)"
   ]
  },
  {
   "cell_type": "code",
   "execution_count": null,
   "metadata": {
    "slideshow": {
     "slide_type": "slide"
    }
   },
   "outputs": [],
   "source": [
    "#WORKING WITH REMOTE CONTROL:\n",
    "\n",
    "remote1 = ev3.RemoteControl(channel=1) \n",
    "remote2 = ev3.RemoteControl(channel=2)\n",
    "\n",
    "say = lambda sentence: ev3.Sound.speak(sentence)\n",
    "\n",
    "remote1.on_red_up = lambda x: say(\"Red up pressed\")\n",
    "remote1.on_red_down = lambda x: say(\"Red down pressed\")\n",
    "remote1.on_blue_up = lambda x: say(\"Blue up pressed\")\n",
    "remote1.on_blue_down = lambda x: say(\"Blue up pressed\")\n",
    "\n",
    "remote2.on_red_up = sys.exit\n",
    "remote2.on_red_down = sys.exit\n",
    "remote2.on_blue_up = sys.exit\n",
    "remote2.on_blue_down = sys.exit\n",
    "\n",
    "while True:\n",
    "    remote1.process()\n",
    "    remote2.process()\n",
    "    time.sleep(0.01)"
   ]
  },
  {
   "cell_type": "markdown",
   "metadata": {
    "slideshow": {
     "slide_type": "notes"
    }
   },
   "source": [
    "There are also remote1.beacon event and ev3.BeaconSeaker class related to the IR and remote control"
   ]
  },
  {
   "cell_type": "markdown",
   "metadata": {
    "slideshow": {
     "slide_type": "slide"
    }
   },
   "source": [
    "# Large motors\n",
    "\n",
    "![](./images/InTheBox_45502_L_Motor_Square.png)"
   ]
  },
  {
   "cell_type": "code",
   "execution_count": null,
   "metadata": {
    "slideshow": {
     "slide_type": "slide"
    }
   },
   "outputs": [],
   "source": [
    "# WORKING WITH LARGE MOTORS:\n",
    "\n",
    "m = ev3.LargeMotor('outB')\n",
    "\n",
    "print(m.count_per_m) #number of tacho counts in one meter of travel of the motor\n",
    "print(m.count_per_rot) #number of tacho counts in one rotation of the motor\n",
    "#guideline: 1 tacho count = 1 degree, so speed of 360 = 1 revolution per second\n",
    "\n",
    "#speed_sp is in tacho counts, recommended range is [-1000, 1000]\n",
    "#stop_action in [break, hold, coast]\n",
    "m.run_timed(time_sp=5000, speed_sp=250, stop_action=\"hold\")\n",
    "\n",
    "m.wait_while('running') #wait for the motor to stop moving\n",
    "\n",
    "m.run_timed(time_sp=5000, speed_sp=-250, stop_action=\"coast\") #go back to initial position"
   ]
  },
  {
   "cell_type": "markdown",
   "metadata": {
    "slideshow": {
     "slide_type": "notes"
    }
   },
   "source": [
    "[motors reference](http://python-ev3dev.readthedocs.io/en/latest/motors.html#tacho-motor)\n",
    "\n",
    "STOP_ACTION_BRAKE = 'brake'\n",
    "Power will be removed from the motor and a passive electrical load will be placed on the motor. This is usually done by shorting the motor terminals together. This load will absorb the energy from the rotation of the motors and cause the motor to stop more quickly than coasting.\n",
    "\n",
    "STOP_ACTION_COAST = 'coast'\n",
    "Power will be removed from the motor and it will freely coast to a stop.\n",
    "\n",
    "STOP_ACTION_HOLD = 'hold'\n",
    "Does not remove power from the motor. Instead it actively try to hold the motor at the current position. If an external force tries to turn the motor, the motor will push back to maintain its position."
   ]
  },
  {
   "cell_type": "markdown",
   "metadata": {
    "slideshow": {
     "slide_type": "slide"
    }
   },
   "source": [
    "# Medium motor\n",
    "\n",
    "![](./images/InTheBox_45503_M_Motor_Square.png)"
   ]
  },
  {
   "cell_type": "code",
   "execution_count": null,
   "metadata": {
    "collapsed": true,
    "slideshow": {
     "slide_type": "slide"
    }
   },
   "outputs": [],
   "source": [
    "#WORKING WITH MEDIUM MOTOR:\n",
    "\n",
    "mm = ev3.MediumMotor()\n",
    "\n",
    "#shoot a ball in the specified direction\n",
    "#speed_sp recommended range is [-1400, 1400]\n",
    "\n",
    "mm.run_to_rel_pos(speed_sp=900, position_sp=-1080)\n",
    "\n",
    "while 'running' in mm.state:\n",
    "    time.sleep(0.1)"
   ]
  },
  {
   "cell_type": "markdown",
   "metadata": {
    "slideshow": {
     "slide_type": "notes"
    }
   },
   "source": [
    "The medium motor has the same attributes and methods as the large motors. It is less powerful but faster and more precise, thus its speed_sp range is higher [-1400, 1400]  "
   ]
  },
  {
   "cell_type": "markdown",
   "metadata": {
    "slideshow": {
     "slide_type": "slide"
    }
   },
   "source": [
    "# Putting it all together: EV3D4\n",
    "\n",
    "![](./images/Product_EV3D4_02_mainstage.png)"
   ]
  },
  {
   "cell_type": "code",
   "execution_count": null,
   "metadata": {
    "slideshow": {
     "slide_type": "slide"
    }
   },
   "outputs": [],
   "source": [
    "import sys\n",
    "import time\n",
    "import threading\n",
    "import signal \n",
    "\n",
    "import rpyc\n",
    "\n",
    "host = '192.168.1.4' \n",
    "\n",
    "conn = rpyc.classic.connect(host) \n",
    "ev3 = conn.modules['ev3dev.ev3'] \n",
    "\n",
    "ev3.Sound.beep()"
   ]
  },
  {
   "cell_type": "code",
   "execution_count": null,
   "metadata": {
    "slideshow": {
     "slide_type": "slide"
    }
   },
   "outputs": [],
   "source": [
    "def move(done):\n",
    "    lm = ev3.LargeMotor('outB'); assert lm.connected\n",
    "    \n",
    "    rm = ev3.LargeMotor('outC'); assert rm.connected\n",
    "    \n",
    "    cl = ev3.ColorSensor(); assert cl.connected\n",
    "    cl.mode='COL-AMBIENT'\n",
    "    \n",
    "    speed = -250 #cl.value() is too low\n",
    "\n",
    "    lm.run_forever(speed_sp=speed)\n",
    "    rm.run_forever(speed_sp=speed)\n",
    "\n",
    "    while not done.is_set():\n",
    "        time.sleep(1)  \n",
    "    \n",
    "    #stop both motors\n",
    "    lm.stop(stop_action='brake')\n",
    "    rm.stop(stop_action='brake')\n",
    "    lm.wait_while('running')\n",
    "    rm.wait_while('running')\n",
    "    \n",
    "    #run around in a circle\n",
    "    done.clear()\n",
    "    lm.run_forever(speed_sp=speed)\n",
    "    \n",
    "    while not done.is_set():\n",
    "        time.sleep(1)\n",
    "        \n",
    "    lm.stop(stop_action='brake')\n",
    "    lm.wait_while('running')"
   ]
  },
  {
   "cell_type": "code",
   "execution_count": null,
   "metadata": {
    "collapsed": true,
    "slideshow": {
     "slide_type": "slide"
    }
   },
   "outputs": [],
   "source": [
    "def feel(done):\n",
    "    ir = ev3.InfraredSensor(); assert ir.connected\n",
    "    ts = ev3.TouchSensor(); assert ts.connected\n",
    "\n",
    "    screen = ev3.Screen()\n",
    "    sound = ev3.Sound()\n",
    "\n",
    "    screen.draw.text((60,40), 'Going for a walk')\n",
    "    screen.update()\n",
    "\n",
    "    while ir.proximity > 30:\n",
    "        if done.is_set(): \n",
    "            break\n",
    "        time.sleep(0.1)\n",
    "\n",
    "    done.set() #this will set it running in a circle\n",
    "    \n",
    "    ev3.Leds.set_color(ev3.Leds.LEFT, ev3.Leds.RED)\n",
    "    ev3.Leds.set_color(ev3.Leds.RIGHT, ev3.Leds.RED)\n",
    "    \n",
    "    screen.clear()\n",
    "    screen.draw.text((60,20), 'There is something is front of me')\n",
    "    screen.update()\n",
    "    \n",
    "    while not ts.is_pressed:\n",
    "        sound.speak(\"Where should I go next?\").wait()\n",
    "        time.sleep(0.5)\n",
    "    \n",
    "    done.set() #will stop the circle dance"
   ]
  },
  {
   "cell_type": "code",
   "execution_count": null,
   "metadata": {
    "slideshow": {
     "slide_type": "slide"
    }
   },
   "outputs": [],
   "source": [
    "# The 'done' event will be used to signal the threads to stop:\n",
    "done = threading.Event()\n",
    "\n",
    "# We also need to catch SIGINT (keyboard interrup) and SIGTERM (termination\n",
    "# signal from brickman) and exit gracefully:\n",
    "def signal_handler(signal, frame):\n",
    "    done.set()\n",
    "\n",
    "signal.signal(signal.SIGINT,  signal_handler)\n",
    "signal.signal(signal.SIGTERM, signal_handler)\n",
    "\n",
    "# Now that we have the worker functions defined, lets run those in separate\n",
    "# threads.\n",
    "move_thread = threading.Thread(target=move, args=(done,))\n",
    "feel_thread = threading.Thread(target=feel, args=(done,))\n",
    "\n",
    "move_thread.start()\n",
    "feel_thread.start()\n",
    "\n",
    "# The main thread will wait for the 'back' button to be pressed.  When that\n",
    "# happens, it will signal the worker threads to stop and wait for their completion.\n",
    "btn = ev3.Button()\n",
    "while not btn.backspace and not done.is_set():\n",
    "    time.sleep(1)\n",
    "\n",
    "done.set()\n",
    "move_thread.join()\n",
    "feel_thread.join()  \n",
    "\n",
    "ev3.Sound.speak('Farewell and good bye!').wait()\n",
    "ev3.Leds.all_off() "
   ]
  },
  {
   "cell_type": "markdown",
   "metadata": {
    "slideshow": {
     "slide_type": "slide"
    }
   },
   "source": [
    "## Resources\n",
    "\n",
    "* [Lego Mindstorms: official site](https://www.lego.com/en-us/mindstorms)\n",
    "* [ev3dev official site](http://www.ev3dev.org)\n",
    "* [Python ev3dev repository](https://github.com/rhempel/ev3dev-lang-python)\n",
    "* [ev3python: unoffical documentation](http://ev3python.com)\n",
    "* [Build a PID controlled line following robot with ev3dev and Pythonista](https://github.com/Klabbedi/ev3)\n",
    "* [Supported third party sensors](http://docs.ev3dev.org/projects/lego-linux-drivers/en/ev3dev-jessie/sensor_data.html#) and [BrickPi](https://www.dexterindustries.com/brickpi/)\n",
    "* This presentation: [https://github.com/sshopov/pyconau2017](https://github.com/sshopov/pyconau2017)\n",
    "* [Books:](https://www.safaribooksonline.com/search/?query=mindstorms)\n",
    "\n",
    "\n",
    "  |   |   |   |\n",
    "--- | --- | --- | ---\n",
    "![](https://www.safaribooksonline.com/library/cover/9781457185229/) | ![](https://www.safaribooksonline.com/library/cover/9781457185366/) | ![](https://www.safaribooksonline.com/library/cover/9781484222621/) | ![](https://www.safaribooksonline.com/library/cover/9781457185489/) | ![](https://www.safaribooksonline.com/library/cover/9780133518238/) | ...\n"
   ]
  },
  {
   "cell_type": "markdown",
   "metadata": {
    "slideshow": {
     "slide_type": "subslide"
    }
   },
   "source": [
    "## Cool NXT/EV3 Mindstorms videos on YouTube\n",
    "### in no particular order\n",
    "\n",
    "https://www.youtube.com/watch?v=HZ_0qk7Yd7A pixy camera for lego http://charmedlabs.com/default/pixy-lego/\n",
    " http://www.tribotix.com/Products/CharmedLabs/CharmedLabs.htm\n",
    "vision command lego cam +vision recognition sudoku solver https://www.youtube.com/watch?v=Mp8Y2yjV4fU \n",
    "https://www.youtube.com/watch?v=gA-zX3Tcjh0 vision \n",
    "dragster https://www.youtube.com/watch?v=7v-anhPAAVw \n",
    "helicopter https://www.youtube.com/watch?v=Oq4vm5Wq2-Y\n",
    "shooter https://www.youtube.com/watch?v=l7O1dVTMHyA\n",
    "space elevator https://www.youtube.com/watch?v=g2xDFeCnaOY\n",
    "paper plane folding machine https://www.youtube.com/watch?v=brQMq8Vz4QA \n",
    "egg decorating robot https://www.youtube.com/watch?v=aQru5c6GwFs http://jkbrickworks.com/ev3-egg-decorator/ \n",
    "rock paper scisors https://www.youtube.com/watch?v=5Rmd5M5ATcU \n",
    "3d printer lego house builder https://www.youtube.com/watch?v=Sjix76QjtMU \n",
    "automated toilet https://www.youtube.com/watch?v=62YnuPKkdws \n",
    "simon sings  music game https://www.youtube.com/watch?v=DFx8u8hV0-Y\n",
    "https://www.youtube.com/watch?v=dHmgaLgFRGM printer \n",
    "spirograph https://www.youtube.com/watch?v=1Ihjh_F7jn0 \n",
    "http://jkbrickworks.com/ \n",
    "robotilus.com forklift slots bot ai dragster tic tac toe card shuffler\n",
    "toilet paper challenge https://www.youtube.com/watch?v=urdHZAZ0brM \n",
    "rally car https://www.youtube.com/watch?v=uYygy5tTT0s \n",
    "autonomous car https://www.youtube.com/watch?v=zEou8mtcxhU \n",
    "pencil sharpener https://www.youtube.com/watch?v=-ozR2q1LxN0\n",
    "logalas pringles vending machine https://www.youtube.com/channel/UCtfEIPhzdWCz7MEiiOMLS0w \n",
    "clever car https://www.youtube.com/watch?v=kAvduVtT748 \n",
    "outlander https://www.youtube.com/watch?v=znHbTL6Oxhg\n",
    "truck https://www.youtube.com/watch?v=2s9C-2m7m_w\n",
    "bike https://www.youtube.com/watch?v=2YtpPu-SI5M\n",
    "dancing robot https://www.youtube.com/watch?v=8H6ldqkI3uM http://arthursacek.com/lego-danc3r \n",
    "elephant https://www.youtube.com/watch?v=oYJCaeYTWnw \n",
    "trex https://www.youtube.com/watch?v=rgTDLO8i8cQ \n",
    "drover dog https://www.youtube.com/watch?v=Pgnpvx7JEcA \n",
    "m&m color sorter https://www.youtube.com/watch?v=B2QUI1gIUS4 \n",
    "fave 15 https://www.youtube.com/watch?v=HJ3XLFsd4zI&list=PLinR9IaPy4sr5amP8orLME9QyY-dFcztX \n",
    "weaving machine https://www.youtube.com/watch?v=IPIJsdvDjsc \n",
    "loom https://www.youtube.com/watch?v=iqlxO5RYyGU \n",
    "loom https://www.youtube.com/watch?v=xaj2M2KtH-w \n",
    "piano https://www.youtube.com/watch?v=TDvcTa3abRM https://www.youtube.com/watch?v=TlmEpdyKwpI https://www.youtube.com/watch?v=9m3qFaF2t7g https://www.youtube.com/watch?v=5smytm90z80\n",
    "warehouse loading https://www.youtube.com/watch?v=GToA2tOVyHg \n",
    "ai vs human car park https://www.youtube.com/watch?v=KseycJFgi1U\n",
    "cleaner https://www.youtube.com/watch?v=mGbdfx1rP4c \n",
    "ldraw.org \n",
    "milling machine https://www.youtube.com/watch?v=oF0pMILT7_Y https://www.youtube.com/watch?v=pX1cO2XhMrg \n",
    "lathe https://www.youtube.com/watch?v=E4k7Nkr7sRg \n",
    "http://arthursacek.com/ \n",
    "chess playing https://www.youtube.com/watch?v=y3gJ2ERa0_8 https://www.youtube.com/watch?v=-rR3omAdOM0 $30,000 making the 100,000-piece chess set. \n",
    "sign language https://www.youtube.com/watch?v=aTk7guHpHLk \n",
    "cradle rock https://www.youtube.com/watch?v=-ZIckCvTnek\n",
    "shirt folder https://www.youtube.com/watch?v=gEmwU_t0qsE "
   ]
  },
  {
   "cell_type": "markdown",
   "metadata": {
    "slideshow": {
     "slide_type": "slide"
    }
   },
   "source": [
    "# Thanks!\n",
    "\n",
    "![Innodev Logo](./images/innodev_logo_stacked.jpg)"
   ]
  }
 ],
 "metadata": {
  "celltoolbar": "Slideshow",
  "kernelspec": {
   "display_name": "Python 3",
   "language": "python",
   "name": "python3"
  },
  "language_info": {
   "codemirror_mode": {
    "name": "ipython",
    "version": 3
   },
   "file_extension": ".py",
   "mimetype": "text/x-python",
   "name": "python",
   "nbconvert_exporter": "python",
   "pygments_lexer": "ipython3",
   "version": "3.6.1"
  }
 },
 "nbformat": 4,
 "nbformat_minor": 2
}
