{
 "cells": [
  {
   "cell_type": "markdown",
   "metadata": {},
   "source": [
    "https://en.wikipedia.org/wiki/Lego_Mindstorms\n",
    "\n",
    "## 0-2 minutes:\n",
    "\n",
    "* Introduction\n",
    "* A bit about me\n",
    "* What is Lego Mindstorms\n",
    "* Brief history\n",
    "\n",
    "## 2-5 minutes:\n",
    "\n",
    "* Cool stuff people have done with Mindstorms\n",
    "\n",
    "## 5-8 minutes:\n",
    "\n",
    "* The ev3dev operating system\n",
    "\n",
    " * What is it\n",
    " * How to install it and run it\n",
    "\n",
    "* The Python EV3 libraries\n",
    "\n",
    " * https://github.com/topikachu/python-ev3 \n",
    " * https://github.com/rhempel/ev3dev-lang-python#usage-examples\n",
    "\n",
    "\n",
    "## 8-12 minutes:\n",
    "\n",
    "* The motors and how to program them \n",
    "\n",
    " * Medium motor\n",
    " * Servo motor\n",
    "\n",
    "\n",
    "## 12-17 minutes:\n",
    "\n",
    "* The sensors and how to program them\n",
    " * Infrared\n",
    " * Touch\n",
    " * Gyro\n",
    " * Color\n",
    " * Ultrasonic\n",
    " * Power supply \n",
    "\n",
    "## 17-20 minutes:\n",
    "\n",
    "* Output options and how to program them\n",
    " * LED control \n",
    " * Sound and speech control\n",
    " * Screen control\n",
    "\n",
    "## 20-22 minutes:\n",
    "\n",
    "* Popular third-party sensors and parts \n",
    " * Dexter Industries\n",
    " * Mindsensors\n",
    " * HiTechnic \n",
    " * MATRIX robotics\n",
    " * Vernier \n",
    "\n",
    "* Extending the Python libraries to support custom sensors (might cut this one out if running short on time)\n",
    "\n",
    "## 22-23 minutes:\n",
    "\n",
    "* Other options to explore\n",
    "\n",
    " * BrickPi\n",
    "\n",
    "## 23-26 minutes:\n",
    "\n",
    "* Demo\n",
    "\n",
    " * Booting ev3dev\n",
    " * Running Jupyter notebook on the brick\n",
    " * Connecting to the Jupyter notebook and running \"Sound.speak('Hello PyCon Australia').\"\n",
    "\n",
    "## 26-30 minutes:\n",
    "\n",
    "* Thanks and Q&A "
   ]
  },
  {
   "cell_type": "markdown",
   "metadata": {
    "collapsed": true
   },
   "source": [
    "## Putting it all together\n",
    "\n",
    "Download an mp3 from Spotify and make the robot dance. \n",
    "Bonus points for randomised dance moves. \n",
    "Bonus points for dance moves based on song analysis. "
   ]
  },
  {
   "cell_type": "code",
   "execution_count": null,
   "metadata": {
    "collapsed": true
   },
   "outputs": [],
   "source": [
    "#https://github.com/plamere/spotipy\n",
    "\n",
    "import requests\n",
    "import spotipy\n",
    "\n",
    "sp = spotipy.Spotify()\n",
    "\n",
    "results = sp.search(q='i like to move it move it', limit=20)\n",
    "for i, t in enumerate(results['tracks']['items']):\n",
    "    print ' ', i, t['name']\n",
    "\n",
    "with file(r'c:\\temp\\moveit.mp3','wb') as out:\n",
    "    out.write(requests.get(results['tracks']['items'][0]['preview_url']).content)\n",
    "\n",
    "import os\n",
    "os.startfile(r'c:\\temp\\moveit.mp3')"
   ]
  }
 ],
 "metadata": {
  "kernelspec": {
   "display_name": "Python 2",
   "language": "python",
   "name": "python2"
  },
  "language_info": {
   "codemirror_mode": {
    "name": "ipython",
    "version": 2
   },
   "file_extension": ".py",
   "mimetype": "text/x-python",
   "name": "python",
   "nbconvert_exporter": "python",
   "pygments_lexer": "ipython2",
   "version": "2.7.12"
  }
 },
 "nbformat": 4,
 "nbformat_minor": 1
}
